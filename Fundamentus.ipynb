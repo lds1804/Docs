{
  "nbformat": 4,
  "nbformat_minor": 0,
  "metadata": {
    "colab": {
      "name": "Fundamentus.ipynb",
      "provenance": [],
      "collapsed_sections": [],
      "toc_visible": true,
      "include_colab_link": true
    },
    "kernelspec": {
      "name": "python3",
      "display_name": "Python 3"
    }
  },
  "cells": [
    {
      "cell_type": "markdown",
      "metadata": {
        "id": "view-in-github",
        "colab_type": "text"
      },
      "source": [
        "<a href=\"https://colab.research.google.com/github/lds1804/Docs/blob/master/Fundamentus.ipynb\" target=\"_parent\"><img src=\"https://colab.research.google.com/assets/colab-badge.svg\" alt=\"Open In Colab\"/></a>"
      ]
    },
    {
      "cell_type": "code",
      "metadata": {
        "id": "y_2Mu5__OK9t",
        "colab_type": "code",
        "colab": {}
      },
      "source": [
        "import urllib\n",
        "import re\n",
        "from lxml.html import fragment_fromstring\n",
        "\n",
        "#retonra liquidez corrente e P/VP nesta ordem, nomes errados nas funcoes\n",
        "def margemLiquida(empresa):\n",
        "    #print(empresa)\n",
        "    page = urllib.request.urlopen(\"http://fundamentus.com.br/detalhes.php?papel=\"+ empresa)\n",
        "    content = page.read().decode('ISO-8859-1')\n",
        "\n",
        "\n",
        "    pattern = re.compile('<table class=\"w728\".*</table>', re.DOTALL)\n",
        "    \n",
        "    \n",
        "    reg = re.findall(pattern, content)[0]\n",
        "\n",
        "\n",
        "\n",
        "    import pandas as pd\n",
        "\n",
        "    dfs = pd.read_html(reg)\n",
        "    df = dfs[2]\n",
        "    #print(df)\n",
        "    margemString = df[5][9]\n",
        "    precoPatrimonioString = df[3][2]\n",
        "    plString = df[3][1]\n",
        "\n",
        "\n",
        "    if(margemString ==\"-\" ):\n",
        "       return -999999, -999999 , -999999\n",
        "    margem= int(margemString )/100\n",
        "    precoPatrimonio = int(precoPatrimonioString )/100\n",
        "    pl = int(plString)/100\n",
        "    \n",
        "    return margem,precoPatrimonio , pl\n",
        "\n"
      ],
      "execution_count": 0,
      "outputs": []
    },
    {
      "cell_type": "code",
      "metadata": {
        "id": "s6YMtjvVC9SF",
        "colab_type": "code",
        "colab": {}
      },
      "source": [
        ""
      ],
      "execution_count": 0,
      "outputs": []
    },
    {
      "cell_type": "code",
      "metadata": {
        "id": "7midQ9PUlsGc",
        "colab_type": "code",
        "colab": {}
      },
      "source": [
        "\n",
        "listaEmpresas =  ['EVEN3', 'DTEX3', 'SQIA3', 'CCPR3', 'MAPT4', 'PFRM3', 'MILS3',\n",
        "       'CESP6', 'CESP5', 'CESP3', 'BTOW3', 'LPSB3', 'RDNI3', 'ECOR3',\n",
        "       'TELB3', 'RCSL4', 'MSPA3', 'BAHI3', 'BTTL3', 'TESA3', 'DTCY3',\n",
        "       'EMBR3', 'HBOR3', 'SUZB3', 'VVAR3', 'TCNO3', 'MNDL3', 'BIOM3',\n",
        "       'BEEF3', 'TELB4', 'TCNO4', 'BRFS3', 'TECN3', 'MGEL4', 'BOBR4',\n",
        "       'CRDE3', 'RANI4', 'RANI3', 'NORD3', 'BSEV3', 'TCSA3', 'SHOW3',\n",
        "       'AHEB3', 'LUPA3', 'PINE4', 'BOBR3', 'ADHM3', 'GFSA3', 'BBRK3',\n",
        "       'ETER3', 'APER3', 'RPMG3', 'NUTR3', 'JFEN3', 'HBTS5', 'CALI4',\n",
        "       'MTIG4', 'DMMO3', 'CTKA4', 'GSHP3', 'CTKA3', 'HOOT4', 'IGBR3',\n",
        "       'CEED4', 'OIBR4', 'MNPR3', 'CEED3', 'ESTR4', 'LIQO3', 'TPIS3',\n",
        "       'OIBR3', 'VIVR3', 'CCXC3', 'PLAS3', 'BDLL3', 'AZEV3', 'FHER3',\n",
        "       'RSID3', 'SLED3', 'MWET3', 'MWET4', 'BDLL4', 'AZEV4', 'MEND6',\n",
        "       'RNEW3', 'MEND5', 'RNEW11', 'INEP3', 'INEP4', 'SLED4', 'RNEW4',\n",
        "       'SNSY5', 'PDGR3', 'MMXM3', 'TEKA3', 'OSXB3', 'TEKA4', 'BBSE3',\n",
        "       'BMGB11', 'BMGB4', 'CNTO3', 'CSAB4', 'IRBR3', 'NTCO3', 'VIVA3',\n",
        "       'JBDU4', 'JBDU3', 'HETA4', 'CEDO4', 'CEDO3', 'ELET3', 'ELET6',\n",
        "       'ELET5', 'CTNM4', 'MRFG3', 'SGPS3', 'IDNT3', 'LIGT3', 'CTNM3',\n",
        "       'PMAM3', 'RSUL4', 'CTSA4', 'CTSA3', 'IDVL3', 'BNBR3', 'CRPG6',\n",
        "       'CRPG5', 'FRTA3', 'BSLI3', 'CMIG4', 'BRAP3', 'TKNO4', 'CRPG3',\n",
        "       'BAZA3', 'CMIG3', 'BRAP4', 'BRSR6', 'IDVL4', 'FESA4', 'ECPR3',\n",
        "       'TRPL4', 'PTBL3', 'CSNA3', 'BRSR3', 'ECPR4', 'BRGE12', 'SMLS3',\n",
        "       'BMEB3', 'BGIP4', 'BRSR5', 'BMEB4', 'WHRL3', 'ROMI3', 'BRDT3',\n",
        "       'BBAS3', 'CRIV3', 'GPCP3', 'EALT4', 'CLSC3', 'CIEL3', 'WHRL4',\n",
        "       'CEBR6', 'SOND6', 'TAEE3', 'TAEE11', 'TAEE4', 'ALUP4', 'MERC4',\n",
        "       'TRPL3', 'CEBR3', 'MYPK3', 'SAPR4', 'CEBR5', 'ALUP11', 'CRIV4',\n",
        "       'ENBR3', 'SAPR11', 'ELEK3', 'BRML3', 'CAML3', 'CLSC4', 'BEES3',\n",
        "       'ELEK4', 'SHUL4', 'ABCB4', 'FESA3', 'PETR4', 'CGRA3', 'SBSP3',\n",
        "       'CPLE6', 'BGIP3', 'BBDC3', 'PETR3', 'SANB4', 'SAPR3', 'ITUB3',\n",
        "       'ITSA4', 'WIZS3', 'SANB11', 'BRGE8', 'ALUP3', 'BBDC4', 'CPLE3',\n",
        "       'ITSA3', 'TIMP3', 'BRIV3', 'BEES4', 'CGRA4', 'GEPA3', 'SANB3',\n",
        "       'MRVE3', 'COCE3', 'GUAR3', 'ENMT3', 'ENMT4', 'CBEE3', 'EMAE4',\n",
        "       'EKTR3', 'CSMG3', 'PTNT4', 'EKTR4', 'ITUB4', 'CEPE6', 'TUPY3',\n",
        "       'RPAD3', 'PEAB3', 'ATOM3', 'MTSA4', 'EEEL3', 'GEPA4', 'VLID3',\n",
        "       'TGMA3', 'CSAN3', 'EUCA4', 'PEAB4', 'EEEL4', 'CEEB5', 'CGAS5',\n",
        "       'CGAS3', 'VULC3', 'PSSA3', 'SPRI6', 'BRIV4', 'COCE5', 'EQTL3',\n",
        "       'NEOE3', 'NEOE3', 'BRGE3', 'LEVE3', 'CAMB4', 'CEEB3', 'BAUH4',\n",
        "       'TEND3', 'BRGE6', 'EALT3', 'SPRI5', 'RAPT3', 'WLMM3', 'WLMM4',\n",
        "       'CPFE3', 'HGTX3', 'VIVT3', 'SLCE3', 'HYPE3', 'EGIE3', 'KEPL3',\n",
        "       'BRGE11', 'JBSS3', 'HAGA4', 'BPAC5', 'UNIP6', 'PATI3', 'SPRI3',\n",
        "       'VALE3', 'GOAU3', 'RPAD6', 'ENAT3', 'PATI4', 'SULA4', 'PCAR4',\n",
        "       'UNIP3', 'CARD3', 'VIVT4', 'GRND3', 'UNIP5', 'TIET4', 'ENEV3',\n",
        "       'CEPE5', 'GOAU4', 'CSRN6', 'PTNT3', 'POMO3', 'RAPT4', 'GGBR3',\n",
        "       'CAMB3', 'BPAC11', 'CSRN3', 'TIET11', 'PCAR3', 'MOAR3', 'LLIS3',\n",
        "       'RPAD5', 'SULA11', 'CSRN5', 'GGBR4', 'CVCB3', 'KLBN4', 'SEER3',\n",
        "       'POMO4', 'KLBN11', 'GPIV33', 'AFLT3', 'CELP7', 'CELP5', 'GBIO33',\n",
        "       'KLBN3', 'ENGI4', 'TRIS3', 'TIET3', 'UGPA3', 'ENGI11', 'YDUQ3',\n",
        "       'WSON33', 'ABEV3', 'FRAS3', 'AGRO3', 'FRIO3', 'QUAL3', 'JHSF3',\n",
        "       'SULA3', 'PNVL4', 'REDE3', 'LUXM4', 'BPAN4', 'DIRR3', 'ENGI3',\n",
        "       'HAGA3', 'PARD3', 'BMKS3', 'SMTO3', 'UCAS3', 'MDIA3', 'JPSA3',\n",
        "       'BPAC3', 'MOVI3', 'ODPV3', 'BRGE5', 'USIM6', 'FLRY3', 'CYRE3',\n",
        "       'IGTA3', 'PNVL3', 'TXRX4', 'DOHL4', 'COGN3', 'USIM5', 'JSLG3',\n",
        "       'B3SA3', 'USIM3', 'ARZZ3', 'EUCA3', 'LCAM3', 'SCAR3', 'BKBR3',\n",
        "       'CRFB3', 'BRKM6', 'LREN3', 'BALM3', 'MULT3', 'BMIN4', 'RENT3',\n",
        "       'RLOG3', 'RADL3', 'HAPV3', 'BALM4', 'RAIL3', 'AALR3', 'CCRO3',\n",
        "       'LOGG3', 'BMIN3', 'OFSA3', 'TXRX3', 'BRKM5', 'WEGE3', 'DOHL3',\n",
        "       'EZTC3', 'BRKM3', 'AMAR3', 'NATU3', 'PRIO3', 'CEGR3', 'ALPA3',\n",
        "       'TASA3', 'POSI3', 'ALPA4', 'TASA4', 'MGLU3', 'LAME3', 'JOPA4',\n",
        "       'CPRE3', 'AZUL4', 'LAME4', 'TOTS3', 'JOPA3', 'GNDI3', 'LINX3',\n",
        "       'BIDI3', 'BIDI4', 'BIDI11', 'LOGN3', 'LIPR3', 'BRPR3', 'OMGE3',\n",
        "       'MEAL3', 'DASA3', 'GOLL4', 'STBP3', 'ALSO3', 'ANIM3']"
      ],
      "execution_count": 0,
      "outputs": []
    },
    {
      "cell_type": "code",
      "metadata": {
        "id": "2gYHdp_F4Yi5",
        "colab_type": "code",
        "colab": {}
      },
      "source": [
        "import pandas as pd"
      ],
      "execution_count": 0,
      "outputs": []
    },
    {
      "cell_type": "code",
      "metadata": {
        "id": "Dqw1TJ2ABAbi",
        "colab_type": "code",
        "colab": {}
      },
      "source": [
        "#empresas = pd.read_excel(\"empresas.xls\")\n",
        "\n",
        "#empresasArray = empresas[\"Empresas\"].values\n"
      ],
      "execution_count": 0,
      "outputs": []
    },
    {
      "cell_type": "code",
      "metadata": {
        "id": "4M9U4h4hIavu",
        "colab_type": "code",
        "colab": {}
      },
      "source": [
        ""
      ],
      "execution_count": 0,
      "outputs": []
    },
    {
      "cell_type": "code",
      "metadata": {
        "id": "74QQXSfEHxKT",
        "colab_type": "code",
        "colab": {}
      },
      "source": [
        "empresas_list = []\n",
        "for sublist in empresas:\n",
        "    for item in sublist:\n",
        "        \n",
        "        empresas_list.append(item)"
      ],
      "execution_count": 0,
      "outputs": []
    },
    {
      "cell_type": "code",
      "metadata": {
        "id": "ZFEtGcQeCVzY",
        "colab_type": "code",
        "colab": {}
      },
      "source": [
        ""
      ],
      "execution_count": 0,
      "outputs": []
    },
    {
      "cell_type": "code",
      "metadata": {
        "id": "-APEmQSnoPYL",
        "colab_type": "code",
        "outputId": "7d99d3bc-ad9e-4337-b214-fc0a093a1504",
        "colab": {
          "base_uri": "https://localhost:8080/",
          "height": 243
        }
      },
      "source": [
        "listaSemDados =[]\n",
        "listaAprovadas =[]\n",
        "listaReprovadas =[]\n",
        "\n",
        "#listaEmpresas = [\"APTI3\"]\n",
        "\n",
        "for empresa in listaEmpresas:\n",
        "  #print(empresa)\n",
        "  try:\n",
        "      #print(empresa)\n",
        "      margem, patrimonio, pl = margemLiquida(empresa)\n",
        "      if(margem== -999999 ):\n",
        "        listaSemDados.append(empresa)\n",
        "        continue \n",
        "\n",
        "      if( (margem >= 1.5)  and  (patrimonio< 1.2) and (patrimonio > 0) and (pl < 15) and (pl >0)):\n",
        "          print( empresa + \" Margem: \" +str(margem) + \"Patrimonio/preco: \" + str(patrimonio) + \"PL:\" + str(pl))\n",
        "          listaAprovadas.append(empresa)\n",
        "\n",
        "      else: \n",
        "          listaReprovadas.append(empresa)\n",
        "  except Exception as e:\n",
        "      print(empresa +\" \"+  str(e))"
      ],
      "execution_count": 63,
      "outputs": [
        {
          "output_type": "stream",
          "text": [
            "EVEN3 invalid literal for int() with base 10: '-1.00312'\n",
            "NTCO3 invalid literal for int() with base 10: '563.702.00000'\n",
            "ELET3 Margem: 1.56Patrimonio/preco: 0.83PL:2.65\n",
            "ELET6 Margem: 1.56Patrimonio/preco: 0.88PL:2.84\n",
            "ELET5 Margem: 1.56Patrimonio/preco: 1.01PL:3.24\n",
            "TKNO4 Margem: 3.13Patrimonio/preco: 0.57PL:6.43\n",
            "FESA4 Margem: 3.01Patrimonio/preco: 0.98PL:7.51\n",
            "CGRA3 Margem: 2.74Patrimonio/preco: 1.11PL:10.85\n",
            "RPAD3 Margem: 2.36Patrimonio/preco: 0.56PL:13.52\n",
            "PEAB3 Margem: 3.4Patrimonio/preco: 1.16PL:13.59\n",
            "MTSA4 Margem: 2.99Patrimonio/preco: 0.89PL:13.69\n",
            "VLID3 Margem: 2.02Patrimonio/preco: 1.14PL:14.03\n",
            "ANIM3 invalid literal for int() with base 10: '4.36270'\n"
          ],
          "name": "stdout"
        }
      ]
    },
    {
      "cell_type": "code",
      "metadata": {
        "id": "BO2tv3IHppl7",
        "colab_type": "code",
        "outputId": "1304e175-1e3b-4bee-9d93-10102b9baeb7",
        "colab": {
          "base_uri": "https://localhost:8080/",
          "height": 191
        }
      },
      "source": [
        "listaAprovadas"
      ],
      "execution_count": 64,
      "outputs": [
        {
          "output_type": "execute_result",
          "data": {
            "text/plain": [
              "['ELET3',\n",
              " 'ELET6',\n",
              " 'ELET5',\n",
              " 'TKNO4',\n",
              " 'FESA4',\n",
              " 'CGRA3',\n",
              " 'RPAD3',\n",
              " 'PEAB3',\n",
              " 'MTSA4',\n",
              " 'VLID3']"
            ]
          },
          "metadata": {
            "tags": []
          },
          "execution_count": 64
        }
      ]
    },
    {
      "cell_type": "code",
      "metadata": {
        "id": "QUd0OistyRgh",
        "colab_type": "code",
        "colab": {}
      },
      "source": [
        "df = margemLiquida(\"PSSA3\")"
      ],
      "execution_count": 0,
      "outputs": []
    },
    {
      "cell_type": "code",
      "metadata": {
        "id": "TVmGj8_eybWh",
        "colab_type": "code",
        "colab": {
          "base_uri": "https://localhost:8080/",
          "height": 34
        },
        "outputId": "4b5a878b-2c3c-46c2-fc82-99eba8cb5bea"
      },
      "source": [
        "df[2][3][1]"
      ],
      "execution_count": 6,
      "outputs": [
        {
          "output_type": "execute_result",
          "data": {
            "text/plain": [
              "'1471'"
            ]
          },
          "metadata": {
            "tags": []
          },
          "execution_count": 6
        }
      ]
    },
    {
      "cell_type": "markdown",
      "metadata": {
        "id": "sgD-hrAIOQT-",
        "colab_type": "text"
      },
      "source": [
        ""
      ]
    }
  ]
}