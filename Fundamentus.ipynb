{
  "nbformat": 4,
  "nbformat_minor": 0,
  "metadata": {
    "colab": {
      "name": "Fundamentus.ipynb",
      "provenance": [],
      "collapsed_sections": [],
      "include_colab_link": true
    },
    "kernelspec": {
      "name": "python3",
      "display_name": "Python 3"
    }
  },
  "cells": [
    {
      "cell_type": "markdown",
      "metadata": {
        "id": "view-in-github",
        "colab_type": "text"
      },
      "source": [
        "<a href=\"https://colab.research.google.com/github/lds1804/Docs/blob/master/Fundamentus.ipynb\" target=\"_parent\"><img src=\"https://colab.research.google.com/assets/colab-badge.svg\" alt=\"Open In Colab\"/></a>"
      ]
    },
    {
      "cell_type": "code",
      "metadata": {
        "id": "y_2Mu5__OK9t",
        "colab_type": "code",
        "colab": {}
      },
      "source": [
        "import urllib\n",
        "import re\n",
        "from lxml.html import fragment_fromstring\n",
        "\n",
        "#retonra liquidez corrente e P/VP nesta ordem, nomes errados nas funcoes\n",
        "def margemLiquida(empresa):\n",
        "    #print(empresa)\n",
        "    page = urllib.request.urlopen(\"http://fundamentus.com.br/detalhes.php?papel=\"+ empresa)\n",
        "    content = page.read().decode('ISO-8859-1')\n",
        "\n",
        "\n",
        "    pattern = re.compile('<table class=\"w728\".*</table>', re.DOTALL)\n",
        "    \n",
        "    \n",
        "    reg = re.findall(pattern, content)[0]\n",
        "\n",
        "\n",
        "\n",
        "    import pandas as pd\n",
        "\n",
        "    dfs = pd.read_html(reg)\n",
        "    df = dfs[2]\n",
        "    #print(df)\n",
        "    margemString = df[5][9]\n",
        "    precoPatrimonioString = df[3][2]\n",
        "\n",
        "\n",
        "    if(margemString ==\"-\" ):\n",
        "       return -999999, -999999 \n",
        "    margem= int(margemString )/100\n",
        "    precoPatrimonio = int(precoPatrimonioString )/100\n",
        "    return margem,precoPatrimonio\n",
        "\n"
      ],
      "execution_count": 0,
      "outputs": []
    },
    {
      "cell_type": "code",
      "metadata": {
        "id": "s6YMtjvVC9SF",
        "colab_type": "code",
        "colab": {}
      },
      "source": [
        ""
      ],
      "execution_count": 0,
      "outputs": []
    },
    {
      "cell_type": "code",
      "metadata": {
        "id": "7midQ9PUlsGc",
        "colab_type": "code",
        "colab": {}
      },
      "source": [
        "\n",
        "\n",
        "listaEmpresas = [\"ABCB4\",\"ABEV3\",\"AELP3\",\"AFLT3\",\"AFLU3\",\"AGRO3\",\"AHEB3\",\"AHEB5\",\"AHEB6\",\"ALPA3\",\"ALPA4\",\"ALSC3\",\"ALUP11\",\"AMAR3\",\"ANIM3\",\"APTI4\",\"ARTR3\",\"ARZZ3\",\"AZEV3\",\"AZEV4\",\"BAHI3\",\"BALM3\",\"BALM4\",\"BAUH4\",\"BAZA3\",\"BBAS3\",\"BBDC3\",\"BBDC4\",\"BBRK3\",\"BBSE3\",\"BBTG11\",\"BDLL3\",\"BDLL4\",\"BEEF3\",\"BEES3\",\"BEES4\",\"BGIP3\",\"BGIP4\",\"BIOM3\",\"BMEB3\",\"BMEB4\",\"BMIN3\",\"BMIN4\",\"BMKS3\",\"BMTO3\",\"BMTO4\",\"BNBR3\",\"BOBR4\",\"BPAN4\",\"BPAR3\",\"BPHA3\",\"BRAP3\",\"BRAP4\",\"BRFS3\",\"BRGE11\",\"BRGE12\",\"BRGE3\",\"BRGE5\",\"BRGE6\",\"BRGE7\",\"BRGE8\",\"APER3\",\"BRIV3\",\"BRIV4\",\"BRKM3\",\"BRKM5\",\"BRKM6\",\"BRML3\",\"BRPR3\",\"BRSR3\",\"BRSR5\",\"BRSR6\",\"BSEV3\",\"BSLI3\",\"BSLI4\",\"BTOW3\",\"BTTL3\",\"BTTL4\",\"BUET3\",\"BUET4\",\"B3SA3\",\"CALI3\",\"CALI4\",\"CAMB4\",\"CARD3\",\"CASN3\",\"CASN4\",\"CBEE3\",\"CBMA3\",\"CBMA4\",\"CCHI3\",\"CCHI4\",\"CCPR3\",\"CCRO3\",\"CCXC3\",\"CEBR3\",\"CEBR5\",\"CEBR6\",\"CEDO3\",\"CEDO4\",\"CEEB3\",\"CEEB5\",\"CEED3\",\"CEED4\",\"CEGR3\",\"CELP3\",\"CELP5\",\"CELP6\",\"CELP7\",\"CEPE3\",\"CEPE5\",\"CEPE6\",\"CESP3\",\"CESP5\",\"CESP6\",\"CGAS3\",\"CGAS5\",\"CGRA3\",\"CGRA4\",\"CIEL3\",\"CLSC3\",\"CLSC4\",\"CMIG3\",\"CMIG4\",\"COCE3\",\"COCE5\",\"COCE6\",\"CORR3\",\"CORR4\",\"CPFE3\",\"CPLE3\",\"CPLE5\",\"CPLE6\",\"CPRE3\",\"CRDE3\",\"CREM3\",\"CRIV3\",\"CRIV4\",\"CSAB3\",\"CSAB4\",\"CSAN3\",\"CSMG3\",\"CSNA3\",\"CSRN3\",\"CSRN5\",\"CSRN6\",\"CTAX3\",\"CTAX4\",\"CTIP3\",\"CTKA3\",\"CTKA4\",\"CTNM3\",\"CTNM4\",\"CTSA3\",\"CTSA4\",\"CTSA8\",\"CVCB3\",\"CYRE3\",\"DASA3\",\"DAYC4\",\"DHBI3\",\"DHBI4\",\"DIRR3\",\"DOHL3\",\"DOHL4\",\"DTCY3\",\"DTEX3\",\"DUQE3\",\"DUQE4\",\"EALT3\",\"EALT4\",\"ECOR3\",\"ECPR3\",\"ECPR4\",\"EEEL3\",\"EEEL4\",\"EKTR3\",\"EKTR4\",\"ELEK3\",\"ELEK4\",\"ELET3\",\"ELET5\",\"ELET6\",\"ELPL3\",\"ELPL4\",\"EMAE3\",\"EMAE4\",\"EMBR3\",\"ENBR3\",\"ENEV3\",\"ENGI11\",\"ENGI3\",\"ENGI4\",\"EQTL3\",\"ESTC3\",\"ESTR3\",\"ESTR4\",\"ETER3\",\"EUCA3\",\"EUCA4\",\"EVEN3\",\"EZTC3\",\"FBMC3\",\"FBMC4\",\"FESA3\",\"FESA4\",\"FHER3\",\"FIBR3\",\"FIGE3\",\"FIGE4\",\"FJTA3\",\"FJTA4\",\"FLRY3\",\"FRAS3\",\"FRIO3\",\"GEPA3\",\"GEPA4\",\"GFSA3\",\"GGBR3\",\"GGBR4\",\"GOAU3\",\"GOAU4\",\"GOLL4\",\"GPAR3\",\"GPCP3\",\"GRND3\",\"GSHP3\",\"GUAR3\",\"GUAR4\",\"HAGA3\",\"HAGA4\",\"HBOR3\",\"HBTS5\",\"HETA3\",\"HETA4\",\"HGTX3\",\"HOOT4\",\"HYPE3\",\"IDNT3\",\"IDVL3\",\"IDVL4\",\"IGBR3\",\"IGTA3\",\"IMBI3\",\"IMBI4\",\"INEP3\",\"INEP4\",\"ITEC3\",\"ITSA3\",\"ITSA4\",\"ITUB3\",\"ITUB4\",\"JBDU3\",\"JBDU4\",\"JBSS3\",\"JFEN3\",\"JHSF3\",\"JOPA3\",\"JOPA4\",\"JSLG3\",\"KEPL3\",\"KLBN11\",\"KLBN3\",\"KLBN4\",\"KROT3\",\"LAME3\",\"LAME4\",\"LCAM3\",\"LEVE3\",\"LFFE3\",\"LFFE4\",\"LHER3\",\"LHER4\",\"LIGT3\",\"LINX3\",\"LIPR3\",\"LIXC3\",\"LIXC4\",\"LLIS3\",\"LOGN3\",\"LPSB3\",\"LREN3\",\"LUPA3\",\"LUXM3\",\"LUXM4\",\"MAGG3\",\"MAPT3\",\"MAPT4\",\"MDIA3\",\"MEND3\",\"MEND5\",\"MEND6\",\"MERC3\",\"MERC4\",\"MGEL3\",\"MGEL4\",\"MGLU3\",\"MILS3\",\"MLFT3\",\"MLFT4\",\"MMAQ3\",\"MMAQ4\",\"MMXM11\",\"MMXM3\",\"MNDL3\",\"MNPR3\",\"MOAR3\",\"MPLU3\",\"MRFG3\",\"MRVE3\",\"MSPA3\",\"MSPA4\",\"MTIG3\",\"MTIG4\",\"MTSA3\",\"MTSA4\",\"MULT3\",\"MWET3\",\"MWET4\",\"MYPK3\",\"NAFG3\",\"NAFG4\",\"NATU3\",\"NORD3\",\"NUTR3\",\"ODPV3\",\"OFSA3\",\"OGSA3\",\"OGXP3\",\"OIBR3\",\"OIBR4\",\"OSXB3\",\"PARC3\",\"PATI3\",\"PATI4\",\"PCAR3\",\"PCAR4\",\"PDGR3\",\"PEAB3\",\"PEAB4\",\"PETR3\",\"PETR4\",\"PFRM3\",\"PINE4\",\"PLAS3\",\"PMAM3\",\"PNVL3\",\"PNVL4\",\"POMO3\",\"POMO4\",\"POSI3\",\"PPAR3 \",\"PRBC4\",\"PRML3\",\"PSSA3\",\"PTBL3\",\"PTNT3\",\"PTNT4\",\"PTPA3\",\"PTPA4\",\"QGEP3\",\"QUAL3\",\"RADL3\",\"RANI3\",\"RANI4\",\"RAPT3\",\"RAPT4\",\"RCSL3\",\"RCSL4\",\"RDNI3\",\"RDTR3\",\"REDE3\",\"REDE4\",\"RENT3\",\"RLOG3\",\"RNEW11\",\"ROMI3\",\"RPAD3\",\"RPAD5\",\"RPAD6\",\"RPMG3\",\"RSID3\",\"RSUL4\",\"RUMO3\",\"SANB11\",\"SANB3\",\"SANB4\",\"SAPR3\",\"SAPR4\",\"SBSP3\",\"\",\"SCAR3\",\"SCLO3\",\"SCLO4\",\"SEDU3\",\"SEER3\",\"SFSA4\",\"SGAS3\",\"SGAS4\",\"SGPS3\",\"SHOW3\",\"SHUL3\",\"SHUL4\",\"SJOS3\",\"SJOS4\",\"SLCE3\",\"SLED3\",\"SLED4\",\"SMLE3\",\"SMTO3\",\"SNSY3\",\"SNSY5\",\"SNSY6\",\"SOND3\",\"SOND5\",\"SOND6\",\"SPRI3\",\"SPRI5\",\"SPRI6\",\"SSBR3\",\"STBP11\",\"SULA11\",\"SULT3\",\"SULT4\",\"SUZB5\",\"SUZB6\",\"TAEE11\",\"TAEE4\",\"TBLE3\",\"TCNO3\",\"TCNO4\",\"TCSA3\",\"TECN3\",\"TEKA3\",\"TEKA4\",\"TELB3\",\"TELB4\",\"TEMP3\",\"TENE5\",\"TENE6\",\"TENE7\",\"TERI3\",\"TGMA3\",\"TIET11\",\"TIMP3\",\"TKNO3\",\"TKNO4\",\"TOTS3\",\"TOYB3\",\"TOYB4\",\"TPIS3\",\"TRIS3\",\"TRPL3\",\"TRPL4\",\"TRPN3\",\"TUPY3\",\"TXRX3\",\"TXRX4\",\"UCAS3\",\"UGPA3\",\"UNIP3\",\"UNIP5\",\"UNIP6\",\"USIM3\",\"USIM5\",\"USIM6\",\"VAGR3\",\"VALE3\",\"VALE5\",\"VIGR3\",\"VIVR3\",\"VIVT3\",\"VIVT4\",\"VLID3\",\"VSPT3\",\"VULC3\",\"VVAR11\",\"VVAR3\",\"WEGE3\",\"WHRL3\",\"WHRL4\",\"WMBY3\" ]"
      ],
      "execution_count": 0,
      "outputs": []
    },
    {
      "cell_type": "code",
      "metadata": {
        "id": "-APEmQSnoPYL",
        "colab_type": "code",
        "outputId": "e320aba7-3c40-45ca-d00c-7c418ca8c79b",
        "colab": {
          "base_uri": "https://localhost:8080/",
          "height": 1000
        }
      },
      "source": [
        "listaSemDados =[]\n",
        "listaAprovadas =[]\n",
        "listaReprovadas =[]\n",
        "\n",
        "#listaEmpresas = [\"APTI3\"]\n",
        "\n",
        "for empresa in listaEmpresas:\n",
        "  #print(empresa)\n",
        "  try:\n",
        "      #print(empresa)\n",
        "      margem, patrimonio = margemLiquida(empresa)\n",
        "      if(margem== -999999 ):\n",
        "        listaSemDados.append(empresa)\n",
        "        continue \n",
        "\n",
        "      if( (margem >= 1.5)  and  (patrimonio< 1.2) and (patrimonio > 0) ):\n",
        "          print( empresa + \" Margem: \" +str(margem) + \"Patrimonio/preco: \" + str(patrimonio) )\n",
        "          listaAprovadas.append(empresa)\n",
        "\n",
        "      else: \n",
        "          listaReprovadas.append(empresa)\n",
        "  except Exception as e:\n",
        "      print(empresa +\" \"+  str(e))"
      ],
      "execution_count": 22,
      "outputs": [
        {
          "output_type": "stream",
          "text": [
            "BALM3 Margem: 2.02Patrimonio/preco: 1.1\n",
            "BMKS3 Margem: 26.48Patrimonio/preco: 0.65\n",
            "CASN4 list index out of range\n",
            "CELP3 list index out of range\n",
            "CELP6 list index out of range\n",
            "CGRA3 Margem: 2.74Patrimonio/preco: 1.14\n",
            "CRDE3 Margem: 5.61Patrimonio/preco: 0.64\n",
            "CTAX3 list index out of range\n",
            "CTAX4 list index out of range\n",
            "DOHL3 Margem: 5.57Patrimonio/preco: 1.05\n",
            "DOHL4 Margem: 5.57Patrimonio/preco: 0.7\n",
            "ELET3 Margem: 1.56Patrimonio/preco: 0.87\n",
            "ELET5 Margem: 1.56Patrimonio/preco: 1.01\n",
            "ELET6 Margem: 1.56Patrimonio/preco: 0.91\n",
            "EMAE3 list index out of range\n",
            "ESTC3 list index out of range\n",
            "FESA4 Margem: 3.01Patrimonio/preco: 1.02\n",
            "FIGE3 Margem: 13.24Patrimonio/preco: 0.45\n",
            "FIGE4 Margem: 13.24Patrimonio/preco: 0.4\n",
            "FJTA3 list index out of range\n",
            "FJTA4 list index out of range\n",
            "GGBR3 Margem: 2.13Patrimonio/preco: 1.19\n",
            "GOAU3 Margem: 2.13Patrimonio/preco: 1.01\n",
            "GOAU4 Margem: 2.13Patrimonio/preco: 1.11\n",
            "GPAR3 list index out of range\n",
            "JOPA3 Margem: 2.09Patrimonio/preco: 0.64\n",
            "JOPA4 Margem: 2.09Patrimonio/preco: 0.49\n",
            "KROT3 list index out of range\n",
            "LHER3 list index out of range\n",
            "LHER4 list index out of range\n",
            "LUPA3 Margem: 2.51Patrimonio/preco: 0.84\n",
            "MEND3 list index out of range\n",
            "MLFT3 list index out of range\n",
            "MMAQ4 Margem: 2.37Patrimonio/preco: 0.06\n",
            "MMXM11 list index out of range\n",
            "MSPA3 Margem: 2.85Patrimonio/preco: 0.36\n",
            "MSPA4 Margem: 2.85Patrimonio/preco: 0.37\n",
            "MTSA3 list index out of range\n",
            "MTSA4 Margem: 2.99Patrimonio/preco: 0.93\n",
            "OGSA3 list index out of range\n",
            "OIBR3 Margem: 1.69Patrimonio/preco: 0.29\n",
            "OIBR4 Margem: 1.69Patrimonio/preco: 0.43\n",
            "PARC3 list index out of range\n",
            "PATI3 Margem: 2.97Patrimonio/preco: 1.03\n",
            "PATI4 Margem: 2.97Patrimonio/preco: 1.07\n",
            "PEAB3 Margem: 3.4Patrimonio/preco: 1.16\n",
            "PPAR3  list index out of range\n",
            "PTPA3 Margem: 1.79Patrimonio/preco: 1.14\n",
            "PTPA4 Margem: 1.79Patrimonio/preco: 1.19\n",
            "QGEP3 list index out of range\n",
            "RCSL3 list index out of range\n",
            "RDNI3 Margem: 2.59Patrimonio/preco: 1.17\n",
            "RPAD3 Margem: 2.36Patrimonio/preco: 0.56\n",
            "RPAD5 Margem: 2.36Patrimonio/preco: 0.85\n",
            "RPAD6 Margem: 2.36Patrimonio/preco: 0.79\n",
            "RUMO3 list index out of range\n",
            " list index out of range\n",
            "SGAS3 list index out of range\n",
            "SGAS4 list index out of range\n",
            "SHUL3 list index out of range\n",
            "SNSY3 list index out of range\n",
            "SNSY6 list index out of range\n",
            "SSBR3 list index out of range\n",
            "TBLE3 list index out of range\n",
            "TECN3 Margem: 2.64Patrimonio/preco: 0.6\n",
            "TENE6 list index out of range\n",
            "TKNO3 list index out of range\n",
            "TKNO4 Margem: 3.13Patrimonio/preco: 0.57\n",
            "TRPN3 Margem: 3.61Patrimonio/preco: 0.54\n",
            "USIM3 Margem: 2.88Patrimonio/preco: 0.99\n",
            "USIM5 Margem: 2.88Patrimonio/preco: 0.95\n",
            "USIM6 Margem: 2.88Patrimonio/preco: 0.79\n",
            "VAGR3 list index out of range\n",
            "VLID3 Margem: 2.02Patrimonio/preco: 1.17\n",
            "VSPT3 list index out of range\n"
          ],
          "name": "stdout"
        }
      ]
    },
    {
      "cell_type": "code",
      "metadata": {
        "id": "BO2tv3IHppl7",
        "colab_type": "code",
        "outputId": "28a5ffdd-4d30-4cb7-c6f5-9ca635f371a6",
        "colab": {
          "base_uri": "https://localhost:8080/",
          "height": 34
        }
      },
      "source": [
        "len(listaAprovadas)"
      ],
      "execution_count": 24,
      "outputs": [
        {
          "output_type": "execute_result",
          "data": {
            "text/plain": [
              "40"
            ]
          },
          "metadata": {
            "tags": []
          },
          "execution_count": 24
        }
      ]
    },
    {
      "cell_type": "markdown",
      "metadata": {
        "id": "sgD-hrAIOQT-",
        "colab_type": "text"
      },
      "source": [
        ""
      ]
    }
  ]
}