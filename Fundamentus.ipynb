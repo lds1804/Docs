{
  "nbformat": 4,
  "nbformat_minor": 0,
  "metadata": {
    "colab": {
      "name": "Fundamentus.ipynb",
      "provenance": [],
      "collapsed_sections": [],
      "include_colab_link": true
    },
    "kernelspec": {
      "name": "python3",
      "display_name": "Python 3"
    }
  },
  "cells": [
    {
      "cell_type": "markdown",
      "metadata": {
        "id": "view-in-github",
        "colab_type": "text"
      },
      "source": [
        "<a href=\"https://colab.research.google.com/github/lds1804/Docs/blob/master/Fundamentus.ipynb\" target=\"_parent\"><img src=\"https://colab.research.google.com/assets/colab-badge.svg\" alt=\"Open In Colab\"/></a>"
      ]
    },
    {
      "cell_type": "code",
      "metadata": {
        "id": "y_2Mu5__OK9t",
        "colab_type": "code",
        "colab": {}
      },
      "source": [
        "import urllib\n",
        "import re\n",
        "from lxml.html import fragment_fromstring\n",
        "\n",
        "def margemLiquida(empresa):\n",
        "    #print(empresa)\n",
        "    page = urllib.request.urlopen(\"http://fundamentus.com.br/detalhes.php?papel=\"+ empresa)\n",
        "    content = page.read().decode('ISO-8859-1')\n",
        "\n",
        "\n",
        "    pattern = re.compile('<table class=\"w728\".*</table>', re.DOTALL)\n",
        "    reg = re.findall(pattern, content)[0]\n",
        "\n",
        "\n",
        "\n",
        "    import pandas as pd\n",
        "\n",
        "    dfs = pd.read_html(reg)\n",
        "    df = dfs[2]\n",
        "    #print(df)\n",
        "    margemString = df[5][9]\n",
        "    precoPatrimonioString = df[3][2]\n",
        "\n",
        "\n",
        "    if(margemString ==\"-\" ):\n",
        "       return float('NaN'), float('NaN') \n",
        "    margem= int(margemString )/100\n",
        "    precoPatrimonio = int(precoPatrimonioString )/100\n",
        "    return margem,precoPatrimonio\n",
        "\n"
      ],
      "execution_count": 0,
      "outputs": []
    },
    {
      "cell_type": "code",
      "metadata": {
        "id": "7midQ9PUlsGc",
        "colab_type": "code",
        "colab": {}
      },
      "source": [
        "\n",
        "\n",
        "listaEmpresas = [\"ABCB4\",\"ABEV3\",\"AELP3\",\"AFLT3\",\"AFLU3\",\"AGRO3\",\"AHEB3\",\"AHEB5\",\"AHEB6\",\"ALPA3\",\"ALPA4\",\"ALSC3\",\"ALUP11\",\"AMAR3\",\"ANIM3\",\"APTI4\",\"ARTR3\",\"ARZZ3\",\"AZEV3\",\"AZEV4\",\"BAHI3\",\"BALM3\",\"BALM4\",\"BAUH4\",\"BAZA3\",\"BBAS3\",\"BBDC3\",\"BBDC4\",\"BBRK3\",\"BBSE3\",\"BBTG11\",\"BDLL3\",\"BDLL4\",\"BEEF3\",\"BEES3\",\"BEES4\",\"BGIP3\",\"BGIP4\",\"BIOM3\",\"BMEB3\",\"BMEB4\",\"BMIN3\",\"BMIN4\",\"BMKS3\",\"BMTO3\",\"BMTO4\",\"BNBR3\",\"BOBR4\",\"BPAN4\",\"BPAR3\",\"BPHA3\",\"BRAP3\",\"BRAP4\",\"BRFS3\",\"BRGE11\",\"BRGE12\",\"BRGE3\",\"BRGE5\",\"BRGE6\",\"BRGE7\",\"BRGE8\",\"APER3\",\"BRIV3\",\"BRIV4\",\"BRKM3\",\"BRKM5\",\"BRKM6\",\"BRML3\",\"BRPR3\",\"BRSR3\",\"BRSR5\",\"BRSR6\",\"BSEV3\",\"BSLI3\",\"BSLI4\",\"BTOW3\",\"BTTL3\",\"BTTL4\",\"BUET3\",\"BUET4\",\"B3SA3\",\"CALI3\",\"CALI4\",\"CAMB4\",\"CARD3\",\"CASN3\",\"CASN4\",\"CBEE3\",\"CBMA3\",\"CBMA4\",\"CCHI3\",\"CCHI4\",\"CCPR3\",\"CCRO3\",\"CCXC3\",\"CEBR3\",\"CEBR5\",\"CEBR6\",\"CEDO3\",\"CEDO4\",\"CEEB3\",\"CEEB5\",\"CEED3\",\"CEED4\",\"CEGR3\",\"CELP3\",\"CELP5\",\"CELP6\",\"CELP7\",\"CEPE3\",\"CEPE5\",\"CEPE6\",\"CESP3\",\"CESP5\",\"CESP6\",\"CGAS3\",\"CGAS5\",\"CGRA3\",\"CGRA4\",\"CIEL3\",\"CLSC3\",\"CLSC4\",\"CMIG3\",\"CMIG4\",\"COCE3\",\"COCE5\",\"COCE6\",\"CORR3\",\"CORR4\",\"CPFE3\",\"CPLE3\",\"CPLE5\",\"CPLE6\",\"CPRE3\",\"CRDE3\",\"CREM3\",\"CRIV3\",\"CRIV4\",\"CSAB3\",\"CSAB4\",\"CSAN3\",\"CSMG3\",\"CSNA3\",\"CSRN3\",\"CSRN5\",\"CSRN6\",\"CTAX3\",\"CTAX4\",\"CTIP3\",\"CTKA3\",\"CTKA4\",\"CTNM3\",\"CTNM4\",\"CTSA3\",\"CTSA4\",\"CTSA8\",\"CVCB3\",\"CYRE3\",\"DASA3\",\"DAYC4\",\"DHBI3\",\"DHBI4\",\"DIRR3\",\"DOHL3\",\"DOHL4\",\"DTCY3\",\"DTEX3\",\"DUQE3\",\"DUQE4\",\"EALT3\",\"EALT4\",\"ECOR3\",\"ECPR3\",\"ECPR4\",\"EEEL3\",\"EEEL4\",\"EKTR3\",\"EKTR4\",\"ELEK3\",\"ELEK4\",\"ELET3\",\"ELET5\",\"ELET6\",\"ELPL3\",\"ELPL4\",\"EMAE3\",\"EMAE4\",\"EMBR3\",\"ENBR3\",\"ENEV3\",\"ENGI11\",\"ENGI3\",\"ENGI4\",\"EQTL3\",\"ESTC3\",\"ESTR3\",\"ESTR4\",\"ETER3\",\"EUCA3\",\"EUCA4\",\"EVEN3\",\"EZTC3\",\"FBMC3\",\"FBMC4\",\"FESA3\",\"FESA4\",\"FHER3\",\"FIBR3\",\"FIGE3\",\"FIGE4\",\"FJTA3\",\"FJTA4\",\"FLRY3\",\"FRAS3\",\"FRIO3\",\"GEPA3\",\"GEPA4\",\"GFSA3\",\"GGBR3\",\"GGBR4\",\"GOAU3\",\"GOAU4\",\"GOLL4\",\"GPAR3\",\"GPCP3\",\"GRND3\",\"GSHP3\",\"GUAR3\",\"GUAR4\",\"HAGA3\",\"HAGA4\",\"HBOR3\",\"HBTS5\",\"HETA3\",\"HETA4\",\"HGTX3\",\"HOOT4\",\"HYPE3\",\"IDNT3\",\"IDVL3\",\"IDVL4\",\"IGBR3\",\"IGTA3\",\"IMBI3\",\"IMBI4\",\"INEP3\",\"INEP4\",\"ITEC3\",\"ITSA3\",\"ITSA4\",\"ITUB3\",\"ITUB4\",\"JBDU3\",\"JBDU4\",\"JBSS3\",\"JFEN3\",\"JHSF3\",\"JOPA3\",\"JOPA4\",\"JSLG3\",\"KEPL3\",\"KLBN11\",\"KLBN3\",\"KLBN4\",\"KROT3\",\"LAME3\",\"LAME4\",\"LCAM3\",\"LEVE3\",\"LFFE3\",\"LFFE4\",\"LHER3\",\"LHER4\",\"LIGT3\",\"LINX3\",\"LIPR3\",\"LIXC3\",\"LIXC4\",\"LLIS3\",\"LOGN3\",\"LPSB3\",\"LREN3\",\"LUPA3\",\"LUXM3\",\"LUXM4\",\"MAGG3\",\"MAPT3\",\"MAPT4\",\"MDIA3\",\"MEND3\",\"MEND5\",\"MEND6\",\"MERC3\",\"MERC4\",\"MGEL3\",\"MGEL4\",\"MGLU3\",\"MILS3\",\"MLFT3\",\"MLFT4\",\"MMAQ3\",\"MMAQ4\",\"MMXM11\",\"MMXM3\",\"MNDL3\",\"MNPR3\",\"MOAR3\",\"MPLU3\",\"MRFG3\",\"MRVE3\",\"MSPA3\",\"MSPA4\",\"MTIG3\",\"MTIG4\",\"MTSA3\",\"MTSA4\",\"MULT3\",\"MWET3\",\"MWET4\",\"MYPK3\",\"NAFG3\",\"NAFG4\",\"NATU3\",\"NORD3\",\"NUTR3\",\"ODPV3\",\"OFSA3\",\"OGSA3\",\"OGXP3\",\"OIBR3\",\"OIBR4\",\"OSXB3\",\"PARC3\",\"PATI3\",\"PATI4\",\"PCAR3\",\"PCAR4\",\"PDGR3\",\"PEAB3\",\"PEAB4\",\"PETR3\",\"PETR4\",\"PFRM3\",\"PINE4\",\"PLAS3\",\"PMAM3\",\"PNVL3\",\"PNVL4\",\"POMO3\",\"POMO4\",\"POSI3\",\"PPAR3 \",\"PRBC4\",\"PRML3\",\"PSSA3\",\"PTBL3\",\"PTNT3\",\"PTNT4\",\"PTPA3\",\"PTPA4\",\"QGEP3\",\"QUAL3\",\"RADL3\",\"RANI3\",\"RANI4\",\"RAPT3\",\"RAPT4\",\"RCSL3\",\"RCSL4\",\"RDNI3\",\"RDTR3\",\"REDE3\",\"REDE4\",\"RENT3\",\"RLOG3\",\"RNEW11\",\"ROMI3\",\"RPAD3\",\"RPAD5\",\"RPAD6\",\"RPMG3\",\"RSID3\",\"RSUL4\",\"RUMO3\",\"SANB11\",\"SANB3\",\"SANB4\",\"SAPR3\",\"SAPR4\",\"SBSP3\",\"\",\"SCAR3\",\"SCLO3\",\"SCLO4\",\"SEDU3\",\"SEER3\",\"SFSA4\",\"SGAS3\",\"SGAS4\",\"SGPS3\",\"SHOW3\",\"SHUL3\",\"SHUL4\",\"SJOS3\",\"SJOS4\",\"SLCE3\",\"SLED3\",\"SLED4\",\"SMLE3\",\"SMTO3\",\"SNSY3\",\"SNSY5\",\"SNSY6\",\"SOND3\",\"SOND5\",\"SOND6\",\"SPRI3\",\"SPRI5\",\"SPRI6\",\"SSBR3\",\"STBP11\",\"SULA11\",\"SULT3\",\"SULT4\",\"SUZB5\",\"SUZB6\",\"TAEE11\",\"TAEE4\",\"TBLE3\",\"TCNO3\",\"TCNO4\",\"TCSA3\",\"TECN3\",\"TEKA3\",\"TEKA4\",\"TELB3\",\"TELB4\",\"TEMP3\",\"TENE5\",\"TENE6\",\"TENE7\",\"TERI3\",\"TGMA3\",\"TIET11\",\"TIMP3\",\"TKNO3\",\"TKNO4\",\"TOTS3\",\"TOYB3\",\"TOYB4\",\"TPIS3\",\"TRIS3\",\"TRPL3\",\"TRPL4\",\"TRPN3\",\"TUPY3\",\"TXRX3\",\"TXRX4\",\"UCAS3\",\"UGPA3\",\"UNIP3\",\"UNIP5\",\"UNIP6\",\"USIM3\",\"USIM5\",\"USIM6\",\"VAGR3\",\"VALE3\",\"VALE5\",\"VIGR3\",\"VIVR3\",\"VIVT3\",\"VIVT4\",\"VLID3\",\"VSPT3\",\"VULC3\",\"VVAR11\",\"VVAR3\",\"WEGE3\",\"WHRL3\",\"WHRL4\",\"WMBY3\" ]"
      ],
      "execution_count": 0,
      "outputs": []
    },
    {
      "cell_type": "code",
      "metadata": {
        "id": "-APEmQSnoPYL",
        "colab_type": "code",
        "outputId": "74b4318e-ef52-49ba-bda4-1dddc9e1009b",
        "colab": {
          "base_uri": "https://localhost:8080/",
          "height": 850
        }
      },
      "source": [
        "listaSemDados =[]\n",
        "listaAprovadas =[]\n",
        "listaReprovadas =[]\n",
        "\n",
        "#listaEmpresas = [\"APTI3\"]\n",
        "\n",
        "for empresa in listaEmpresas:\n",
        "  #print(empresa)\n",
        "  try:\n",
        "      #print(empresa)\n",
        "      margem, patrimonio = margemLiquida(empresa)\n",
        "      if(margem== float('NaN')):\n",
        "        listaSemDados.append(empresa)\n",
        "        continue \n",
        "\n",
        "      if(margem >= 1.5 & patrimonio < 1.2 ):\n",
        "          print( empresa + \" Margem: \" +str(margem) + \"Patrimonio/preco: \" + patrimonio )\n",
        "          listaAprovadas.append(empresa)\n",
        "\n",
        "      else: \n",
        "          listaReprovadas.append(empresa)\n",
        "  except Exception as e:\n",
        "      print(empresa +\" \"+  str(e))"
      ],
      "execution_count": 17,
      "outputs": [
        {
          "output_type": "stream",
          "text": [
            "ABCB4 unsupported operand type(s) for &: 'float' and 'float'\n",
            "ABEV3 unsupported operand type(s) for &: 'float' and 'float'\n",
            "AELP3 unsupported operand type(s) for &: 'float' and 'float'\n",
            "AFLT3 unsupported operand type(s) for &: 'float' and 'float'\n",
            "AFLU3 unsupported operand type(s) for &: 'float' and 'float'\n",
            "AGRO3 unsupported operand type(s) for &: 'float' and 'float'\n",
            "AHEB3 unsupported operand type(s) for &: 'float' and 'float'\n",
            "AHEB5 unsupported operand type(s) for &: 'float' and 'float'\n",
            "AHEB6 unsupported operand type(s) for &: 'float' and 'float'\n",
            "ALPA3 unsupported operand type(s) for &: 'float' and 'float'\n",
            "ALPA4 unsupported operand type(s) for &: 'float' and 'float'\n",
            "ALSC3 unsupported operand type(s) for &: 'float' and 'float'\n",
            "ALUP11 unsupported operand type(s) for &: 'float' and 'float'\n",
            "AMAR3 unsupported operand type(s) for &: 'float' and 'float'\n",
            "ANIM3 unsupported operand type(s) for &: 'float' and 'float'\n",
            "APTI4 unsupported operand type(s) for &: 'float' and 'float'\n",
            "ARTR3 unsupported operand type(s) for &: 'float' and 'float'\n",
            "ARZZ3 unsupported operand type(s) for &: 'float' and 'float'\n",
            "AZEV3 unsupported operand type(s) for &: 'float' and 'float'\n",
            "AZEV4 unsupported operand type(s) for &: 'float' and 'float'\n",
            "BAHI3 unsupported operand type(s) for &: 'float' and 'float'\n",
            "BALM3 unsupported operand type(s) for &: 'float' and 'float'\n",
            "BALM4 unsupported operand type(s) for &: 'float' and 'float'\n",
            "BAUH4 unsupported operand type(s) for &: 'float' and 'float'\n",
            "BAZA3 unsupported operand type(s) for &: 'float' and 'float'\n",
            "BBAS3 unsupported operand type(s) for &: 'float' and 'float'\n",
            "BBDC3 unsupported operand type(s) for &: 'float' and 'float'\n"
          ],
          "name": "stdout"
        },
        {
          "output_type": "error",
          "ename": "KeyboardInterrupt",
          "evalue": "ignored",
          "traceback": [
            "\u001b[0;31m---------------------------------------------------------------------------\u001b[0m",
            "\u001b[0;31mKeyboardInterrupt\u001b[0m                         Traceback (most recent call last)",
            "\u001b[0;32m<ipython-input-17-40e1145124a9>\u001b[0m in \u001b[0;36m<module>\u001b[0;34m()\u001b[0m\n\u001b[1;32m      9\u001b[0m   \u001b[0;32mtry\u001b[0m\u001b[0;34m:\u001b[0m\u001b[0;34m\u001b[0m\u001b[0;34m\u001b[0m\u001b[0m\n\u001b[1;32m     10\u001b[0m       \u001b[0;31m#print(empresa)\u001b[0m\u001b[0;34m\u001b[0m\u001b[0;34m\u001b[0m\u001b[0;34m\u001b[0m\u001b[0m\n\u001b[0;32m---> 11\u001b[0;31m       \u001b[0mmargem\u001b[0m\u001b[0;34m,\u001b[0m \u001b[0mpatrimonio\u001b[0m \u001b[0;34m=\u001b[0m \u001b[0mmargemLiquida\u001b[0m\u001b[0;34m(\u001b[0m\u001b[0mempresa\u001b[0m\u001b[0;34m)\u001b[0m\u001b[0;34m\u001b[0m\u001b[0;34m\u001b[0m\u001b[0m\n\u001b[0m\u001b[1;32m     12\u001b[0m       \u001b[0;32mif\u001b[0m\u001b[0;34m(\u001b[0m\u001b[0mmargem\u001b[0m\u001b[0;34m==\u001b[0m \u001b[0mfloat\u001b[0m\u001b[0;34m(\u001b[0m\u001b[0;34m'NaN'\u001b[0m\u001b[0;34m)\u001b[0m\u001b[0;34m)\u001b[0m\u001b[0;34m:\u001b[0m\u001b[0;34m\u001b[0m\u001b[0;34m\u001b[0m\u001b[0m\n\u001b[1;32m     13\u001b[0m         \u001b[0mlistaSemDados\u001b[0m\u001b[0;34m.\u001b[0m\u001b[0mappend\u001b[0m\u001b[0;34m(\u001b[0m\u001b[0mempresa\u001b[0m\u001b[0;34m)\u001b[0m\u001b[0;34m\u001b[0m\u001b[0;34m\u001b[0m\u001b[0m\n",
            "\u001b[0;32m<ipython-input-16-a1d8602733f1>\u001b[0m in \u001b[0;36mmargemLiquida\u001b[0;34m(empresa)\u001b[0m\n\u001b[1;32m      5\u001b[0m \u001b[0;32mdef\u001b[0m \u001b[0mmargemLiquida\u001b[0m\u001b[0;34m(\u001b[0m\u001b[0mempresa\u001b[0m\u001b[0;34m)\u001b[0m\u001b[0;34m:\u001b[0m\u001b[0;34m\u001b[0m\u001b[0;34m\u001b[0m\u001b[0m\n\u001b[1;32m      6\u001b[0m     \u001b[0;31m#print(empresa)\u001b[0m\u001b[0;34m\u001b[0m\u001b[0;34m\u001b[0m\u001b[0;34m\u001b[0m\u001b[0m\n\u001b[0;32m----> 7\u001b[0;31m     \u001b[0mpage\u001b[0m \u001b[0;34m=\u001b[0m \u001b[0murllib\u001b[0m\u001b[0;34m.\u001b[0m\u001b[0mrequest\u001b[0m\u001b[0;34m.\u001b[0m\u001b[0murlopen\u001b[0m\u001b[0;34m(\u001b[0m\u001b[0;34m\"http://fundamentus.com.br/detalhes.php?papel=\"\u001b[0m\u001b[0;34m+\u001b[0m \u001b[0mempresa\u001b[0m\u001b[0;34m)\u001b[0m\u001b[0;34m\u001b[0m\u001b[0;34m\u001b[0m\u001b[0m\n\u001b[0m\u001b[1;32m      8\u001b[0m     \u001b[0mcontent\u001b[0m \u001b[0;34m=\u001b[0m \u001b[0mpage\u001b[0m\u001b[0;34m.\u001b[0m\u001b[0mread\u001b[0m\u001b[0;34m(\u001b[0m\u001b[0;34m)\u001b[0m\u001b[0;34m.\u001b[0m\u001b[0mdecode\u001b[0m\u001b[0;34m(\u001b[0m\u001b[0;34m'ISO-8859-1'\u001b[0m\u001b[0;34m)\u001b[0m\u001b[0;34m\u001b[0m\u001b[0;34m\u001b[0m\u001b[0m\n\u001b[1;32m      9\u001b[0m \u001b[0;34m\u001b[0m\u001b[0m\n",
            "\u001b[0;32m/usr/lib/python3.6/urllib/request.py\u001b[0m in \u001b[0;36murlopen\u001b[0;34m(url, data, timeout, cafile, capath, cadefault, context)\u001b[0m\n\u001b[1;32m    221\u001b[0m     \u001b[0;32melse\u001b[0m\u001b[0;34m:\u001b[0m\u001b[0;34m\u001b[0m\u001b[0;34m\u001b[0m\u001b[0m\n\u001b[1;32m    222\u001b[0m         \u001b[0mopener\u001b[0m \u001b[0;34m=\u001b[0m \u001b[0m_opener\u001b[0m\u001b[0;34m\u001b[0m\u001b[0;34m\u001b[0m\u001b[0m\n\u001b[0;32m--> 223\u001b[0;31m     \u001b[0;32mreturn\u001b[0m \u001b[0mopener\u001b[0m\u001b[0;34m.\u001b[0m\u001b[0mopen\u001b[0m\u001b[0;34m(\u001b[0m\u001b[0murl\u001b[0m\u001b[0;34m,\u001b[0m \u001b[0mdata\u001b[0m\u001b[0;34m,\u001b[0m \u001b[0mtimeout\u001b[0m\u001b[0;34m)\u001b[0m\u001b[0;34m\u001b[0m\u001b[0;34m\u001b[0m\u001b[0m\n\u001b[0m\u001b[1;32m    224\u001b[0m \u001b[0;34m\u001b[0m\u001b[0m\n\u001b[1;32m    225\u001b[0m \u001b[0;32mdef\u001b[0m \u001b[0minstall_opener\u001b[0m\u001b[0;34m(\u001b[0m\u001b[0mopener\u001b[0m\u001b[0;34m)\u001b[0m\u001b[0;34m:\u001b[0m\u001b[0;34m\u001b[0m\u001b[0;34m\u001b[0m\u001b[0m\n",
            "\u001b[0;32m/usr/lib/python3.6/urllib/request.py\u001b[0m in \u001b[0;36mopen\u001b[0;34m(self, fullurl, data, timeout)\u001b[0m\n\u001b[1;32m    524\u001b[0m             \u001b[0mreq\u001b[0m \u001b[0;34m=\u001b[0m \u001b[0mmeth\u001b[0m\u001b[0;34m(\u001b[0m\u001b[0mreq\u001b[0m\u001b[0;34m)\u001b[0m\u001b[0;34m\u001b[0m\u001b[0;34m\u001b[0m\u001b[0m\n\u001b[1;32m    525\u001b[0m \u001b[0;34m\u001b[0m\u001b[0m\n\u001b[0;32m--> 526\u001b[0;31m         \u001b[0mresponse\u001b[0m \u001b[0;34m=\u001b[0m \u001b[0mself\u001b[0m\u001b[0;34m.\u001b[0m\u001b[0m_open\u001b[0m\u001b[0;34m(\u001b[0m\u001b[0mreq\u001b[0m\u001b[0;34m,\u001b[0m \u001b[0mdata\u001b[0m\u001b[0;34m)\u001b[0m\u001b[0;34m\u001b[0m\u001b[0;34m\u001b[0m\u001b[0m\n\u001b[0m\u001b[1;32m    527\u001b[0m \u001b[0;34m\u001b[0m\u001b[0m\n\u001b[1;32m    528\u001b[0m         \u001b[0;31m# post-process response\u001b[0m\u001b[0;34m\u001b[0m\u001b[0;34m\u001b[0m\u001b[0;34m\u001b[0m\u001b[0m\n",
            "\u001b[0;32m/usr/lib/python3.6/urllib/request.py\u001b[0m in \u001b[0;36m_open\u001b[0;34m(self, req, data)\u001b[0m\n\u001b[1;32m    542\u001b[0m         \u001b[0mprotocol\u001b[0m \u001b[0;34m=\u001b[0m \u001b[0mreq\u001b[0m\u001b[0;34m.\u001b[0m\u001b[0mtype\u001b[0m\u001b[0;34m\u001b[0m\u001b[0;34m\u001b[0m\u001b[0m\n\u001b[1;32m    543\u001b[0m         result = self._call_chain(self.handle_open, protocol, protocol +\n\u001b[0;32m--> 544\u001b[0;31m                                   '_open', req)\n\u001b[0m\u001b[1;32m    545\u001b[0m         \u001b[0;32mif\u001b[0m \u001b[0mresult\u001b[0m\u001b[0;34m:\u001b[0m\u001b[0;34m\u001b[0m\u001b[0;34m\u001b[0m\u001b[0m\n\u001b[1;32m    546\u001b[0m             \u001b[0;32mreturn\u001b[0m \u001b[0mresult\u001b[0m\u001b[0;34m\u001b[0m\u001b[0;34m\u001b[0m\u001b[0m\n",
            "\u001b[0;32m/usr/lib/python3.6/urllib/request.py\u001b[0m in \u001b[0;36m_call_chain\u001b[0;34m(self, chain, kind, meth_name, *args)\u001b[0m\n\u001b[1;32m    502\u001b[0m         \u001b[0;32mfor\u001b[0m \u001b[0mhandler\u001b[0m \u001b[0;32min\u001b[0m \u001b[0mhandlers\u001b[0m\u001b[0;34m:\u001b[0m\u001b[0;34m\u001b[0m\u001b[0;34m\u001b[0m\u001b[0m\n\u001b[1;32m    503\u001b[0m             \u001b[0mfunc\u001b[0m \u001b[0;34m=\u001b[0m \u001b[0mgetattr\u001b[0m\u001b[0;34m(\u001b[0m\u001b[0mhandler\u001b[0m\u001b[0;34m,\u001b[0m \u001b[0mmeth_name\u001b[0m\u001b[0;34m)\u001b[0m\u001b[0;34m\u001b[0m\u001b[0;34m\u001b[0m\u001b[0m\n\u001b[0;32m--> 504\u001b[0;31m             \u001b[0mresult\u001b[0m \u001b[0;34m=\u001b[0m \u001b[0mfunc\u001b[0m\u001b[0;34m(\u001b[0m\u001b[0;34m*\u001b[0m\u001b[0margs\u001b[0m\u001b[0;34m)\u001b[0m\u001b[0;34m\u001b[0m\u001b[0;34m\u001b[0m\u001b[0m\n\u001b[0m\u001b[1;32m    505\u001b[0m             \u001b[0;32mif\u001b[0m \u001b[0mresult\u001b[0m \u001b[0;32mis\u001b[0m \u001b[0;32mnot\u001b[0m \u001b[0;32mNone\u001b[0m\u001b[0;34m:\u001b[0m\u001b[0;34m\u001b[0m\u001b[0;34m\u001b[0m\u001b[0m\n\u001b[1;32m    506\u001b[0m                 \u001b[0;32mreturn\u001b[0m \u001b[0mresult\u001b[0m\u001b[0;34m\u001b[0m\u001b[0;34m\u001b[0m\u001b[0m\n",
            "\u001b[0;32m/usr/lib/python3.6/urllib/request.py\u001b[0m in \u001b[0;36mhttp_open\u001b[0;34m(self, req)\u001b[0m\n\u001b[1;32m   1344\u001b[0m \u001b[0;34m\u001b[0m\u001b[0m\n\u001b[1;32m   1345\u001b[0m     \u001b[0;32mdef\u001b[0m \u001b[0mhttp_open\u001b[0m\u001b[0;34m(\u001b[0m\u001b[0mself\u001b[0m\u001b[0;34m,\u001b[0m \u001b[0mreq\u001b[0m\u001b[0;34m)\u001b[0m\u001b[0;34m:\u001b[0m\u001b[0;34m\u001b[0m\u001b[0;34m\u001b[0m\u001b[0m\n\u001b[0;32m-> 1346\u001b[0;31m         \u001b[0;32mreturn\u001b[0m \u001b[0mself\u001b[0m\u001b[0;34m.\u001b[0m\u001b[0mdo_open\u001b[0m\u001b[0;34m(\u001b[0m\u001b[0mhttp\u001b[0m\u001b[0;34m.\u001b[0m\u001b[0mclient\u001b[0m\u001b[0;34m.\u001b[0m\u001b[0mHTTPConnection\u001b[0m\u001b[0;34m,\u001b[0m \u001b[0mreq\u001b[0m\u001b[0;34m)\u001b[0m\u001b[0;34m\u001b[0m\u001b[0;34m\u001b[0m\u001b[0m\n\u001b[0m\u001b[1;32m   1347\u001b[0m \u001b[0;34m\u001b[0m\u001b[0m\n\u001b[1;32m   1348\u001b[0m     \u001b[0mhttp_request\u001b[0m \u001b[0;34m=\u001b[0m \u001b[0mAbstractHTTPHandler\u001b[0m\u001b[0;34m.\u001b[0m\u001b[0mdo_request_\u001b[0m\u001b[0;34m\u001b[0m\u001b[0;34m\u001b[0m\u001b[0m\n",
            "\u001b[0;32m/usr/lib/python3.6/urllib/request.py\u001b[0m in \u001b[0;36mdo_open\u001b[0;34m(self, http_class, req, **http_conn_args)\u001b[0m\n\u001b[1;32m   1319\u001b[0m             \u001b[0;32mexcept\u001b[0m \u001b[0mOSError\u001b[0m \u001b[0;32mas\u001b[0m \u001b[0merr\u001b[0m\u001b[0;34m:\u001b[0m \u001b[0;31m# timeout error\u001b[0m\u001b[0;34m\u001b[0m\u001b[0;34m\u001b[0m\u001b[0m\n\u001b[1;32m   1320\u001b[0m                 \u001b[0;32mraise\u001b[0m \u001b[0mURLError\u001b[0m\u001b[0;34m(\u001b[0m\u001b[0merr\u001b[0m\u001b[0;34m)\u001b[0m\u001b[0;34m\u001b[0m\u001b[0;34m\u001b[0m\u001b[0m\n\u001b[0;32m-> 1321\u001b[0;31m             \u001b[0mr\u001b[0m \u001b[0;34m=\u001b[0m \u001b[0mh\u001b[0m\u001b[0;34m.\u001b[0m\u001b[0mgetresponse\u001b[0m\u001b[0;34m(\u001b[0m\u001b[0;34m)\u001b[0m\u001b[0;34m\u001b[0m\u001b[0;34m\u001b[0m\u001b[0m\n\u001b[0m\u001b[1;32m   1322\u001b[0m         \u001b[0;32mexcept\u001b[0m\u001b[0;34m:\u001b[0m\u001b[0;34m\u001b[0m\u001b[0;34m\u001b[0m\u001b[0m\n\u001b[1;32m   1323\u001b[0m             \u001b[0mh\u001b[0m\u001b[0;34m.\u001b[0m\u001b[0mclose\u001b[0m\u001b[0;34m(\u001b[0m\u001b[0;34m)\u001b[0m\u001b[0;34m\u001b[0m\u001b[0;34m\u001b[0m\u001b[0m\n",
            "\u001b[0;32m/usr/lib/python3.6/http/client.py\u001b[0m in \u001b[0;36mgetresponse\u001b[0;34m(self)\u001b[0m\n\u001b[1;32m   1344\u001b[0m         \u001b[0;32mtry\u001b[0m\u001b[0;34m:\u001b[0m\u001b[0;34m\u001b[0m\u001b[0;34m\u001b[0m\u001b[0m\n\u001b[1;32m   1345\u001b[0m             \u001b[0;32mtry\u001b[0m\u001b[0;34m:\u001b[0m\u001b[0;34m\u001b[0m\u001b[0;34m\u001b[0m\u001b[0m\n\u001b[0;32m-> 1346\u001b[0;31m                 \u001b[0mresponse\u001b[0m\u001b[0;34m.\u001b[0m\u001b[0mbegin\u001b[0m\u001b[0;34m(\u001b[0m\u001b[0;34m)\u001b[0m\u001b[0;34m\u001b[0m\u001b[0;34m\u001b[0m\u001b[0m\n\u001b[0m\u001b[1;32m   1347\u001b[0m             \u001b[0;32mexcept\u001b[0m \u001b[0mConnectionError\u001b[0m\u001b[0;34m:\u001b[0m\u001b[0;34m\u001b[0m\u001b[0;34m\u001b[0m\u001b[0m\n\u001b[1;32m   1348\u001b[0m                 \u001b[0mself\u001b[0m\u001b[0;34m.\u001b[0m\u001b[0mclose\u001b[0m\u001b[0;34m(\u001b[0m\u001b[0;34m)\u001b[0m\u001b[0;34m\u001b[0m\u001b[0;34m\u001b[0m\u001b[0m\n",
            "\u001b[0;32m/usr/lib/python3.6/http/client.py\u001b[0m in \u001b[0;36mbegin\u001b[0;34m(self)\u001b[0m\n\u001b[1;32m    305\u001b[0m         \u001b[0;31m# read until we get a non-100 response\u001b[0m\u001b[0;34m\u001b[0m\u001b[0;34m\u001b[0m\u001b[0;34m\u001b[0m\u001b[0m\n\u001b[1;32m    306\u001b[0m         \u001b[0;32mwhile\u001b[0m \u001b[0;32mTrue\u001b[0m\u001b[0;34m:\u001b[0m\u001b[0;34m\u001b[0m\u001b[0;34m\u001b[0m\u001b[0m\n\u001b[0;32m--> 307\u001b[0;31m             \u001b[0mversion\u001b[0m\u001b[0;34m,\u001b[0m \u001b[0mstatus\u001b[0m\u001b[0;34m,\u001b[0m \u001b[0mreason\u001b[0m \u001b[0;34m=\u001b[0m \u001b[0mself\u001b[0m\u001b[0;34m.\u001b[0m\u001b[0m_read_status\u001b[0m\u001b[0;34m(\u001b[0m\u001b[0;34m)\u001b[0m\u001b[0;34m\u001b[0m\u001b[0;34m\u001b[0m\u001b[0m\n\u001b[0m\u001b[1;32m    308\u001b[0m             \u001b[0;32mif\u001b[0m \u001b[0mstatus\u001b[0m \u001b[0;34m!=\u001b[0m \u001b[0mCONTINUE\u001b[0m\u001b[0;34m:\u001b[0m\u001b[0;34m\u001b[0m\u001b[0;34m\u001b[0m\u001b[0m\n\u001b[1;32m    309\u001b[0m                 \u001b[0;32mbreak\u001b[0m\u001b[0;34m\u001b[0m\u001b[0;34m\u001b[0m\u001b[0m\n",
            "\u001b[0;32m/usr/lib/python3.6/http/client.py\u001b[0m in \u001b[0;36m_read_status\u001b[0;34m(self)\u001b[0m\n\u001b[1;32m    266\u001b[0m \u001b[0;34m\u001b[0m\u001b[0m\n\u001b[1;32m    267\u001b[0m     \u001b[0;32mdef\u001b[0m \u001b[0m_read_status\u001b[0m\u001b[0;34m(\u001b[0m\u001b[0mself\u001b[0m\u001b[0;34m)\u001b[0m\u001b[0;34m:\u001b[0m\u001b[0;34m\u001b[0m\u001b[0;34m\u001b[0m\u001b[0m\n\u001b[0;32m--> 268\u001b[0;31m         \u001b[0mline\u001b[0m \u001b[0;34m=\u001b[0m \u001b[0mstr\u001b[0m\u001b[0;34m(\u001b[0m\u001b[0mself\u001b[0m\u001b[0;34m.\u001b[0m\u001b[0mfp\u001b[0m\u001b[0;34m.\u001b[0m\u001b[0mreadline\u001b[0m\u001b[0;34m(\u001b[0m\u001b[0m_MAXLINE\u001b[0m \u001b[0;34m+\u001b[0m \u001b[0;36m1\u001b[0m\u001b[0;34m)\u001b[0m\u001b[0;34m,\u001b[0m \u001b[0;34m\"iso-8859-1\"\u001b[0m\u001b[0;34m)\u001b[0m\u001b[0;34m\u001b[0m\u001b[0;34m\u001b[0m\u001b[0m\n\u001b[0m\u001b[1;32m    269\u001b[0m         \u001b[0;32mif\u001b[0m \u001b[0mlen\u001b[0m\u001b[0;34m(\u001b[0m\u001b[0mline\u001b[0m\u001b[0;34m)\u001b[0m \u001b[0;34m>\u001b[0m \u001b[0m_MAXLINE\u001b[0m\u001b[0;34m:\u001b[0m\u001b[0;34m\u001b[0m\u001b[0;34m\u001b[0m\u001b[0m\n\u001b[1;32m    270\u001b[0m             \u001b[0;32mraise\u001b[0m \u001b[0mLineTooLong\u001b[0m\u001b[0;34m(\u001b[0m\u001b[0;34m\"status line\"\u001b[0m\u001b[0;34m)\u001b[0m\u001b[0;34m\u001b[0m\u001b[0;34m\u001b[0m\u001b[0m\n",
            "\u001b[0;32m/usr/lib/python3.6/socket.py\u001b[0m in \u001b[0;36mreadinto\u001b[0;34m(self, b)\u001b[0m\n\u001b[1;32m    584\u001b[0m         \u001b[0;32mwhile\u001b[0m \u001b[0;32mTrue\u001b[0m\u001b[0;34m:\u001b[0m\u001b[0;34m\u001b[0m\u001b[0;34m\u001b[0m\u001b[0m\n\u001b[1;32m    585\u001b[0m             \u001b[0;32mtry\u001b[0m\u001b[0;34m:\u001b[0m\u001b[0;34m\u001b[0m\u001b[0;34m\u001b[0m\u001b[0m\n\u001b[0;32m--> 586\u001b[0;31m                 \u001b[0;32mreturn\u001b[0m \u001b[0mself\u001b[0m\u001b[0;34m.\u001b[0m\u001b[0m_sock\u001b[0m\u001b[0;34m.\u001b[0m\u001b[0mrecv_into\u001b[0m\u001b[0;34m(\u001b[0m\u001b[0mb\u001b[0m\u001b[0;34m)\u001b[0m\u001b[0;34m\u001b[0m\u001b[0;34m\u001b[0m\u001b[0m\n\u001b[0m\u001b[1;32m    587\u001b[0m             \u001b[0;32mexcept\u001b[0m \u001b[0mtimeout\u001b[0m\u001b[0;34m:\u001b[0m\u001b[0;34m\u001b[0m\u001b[0;34m\u001b[0m\u001b[0m\n\u001b[1;32m    588\u001b[0m                 \u001b[0mself\u001b[0m\u001b[0;34m.\u001b[0m\u001b[0m_timeout_occurred\u001b[0m \u001b[0;34m=\u001b[0m \u001b[0;32mTrue\u001b[0m\u001b[0;34m\u001b[0m\u001b[0;34m\u001b[0m\u001b[0m\n",
            "\u001b[0;31mKeyboardInterrupt\u001b[0m: "
          ]
        }
      ]
    },
    {
      "cell_type": "code",
      "metadata": {
        "id": "BO2tv3IHppl7",
        "colab_type": "code",
        "outputId": "f16cba25-6cd1-42d9-c18f-b53dd267a68b",
        "colab": {
          "base_uri": "https://localhost:8080/",
          "height": 34
        }
      },
      "source": [
        ""
      ],
      "execution_count": 14,
      "outputs": [
        {
          "output_type": "execute_result",
          "data": {
            "text/plain": [
              "'127'"
            ]
          },
          "metadata": {
            "tags": []
          },
          "execution_count": 14
        }
      ]
    },
    {
      "cell_type": "markdown",
      "metadata": {
        "id": "sgD-hrAIOQT-",
        "colab_type": "text"
      },
      "source": [
        ""
      ]
    }
  ]
}