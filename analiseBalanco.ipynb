{
  "nbformat": 4,
  "nbformat_minor": 0,
  "metadata": {
    "kernelspec": {
      "display_name": "Python 3",
      "language": "python",
      "name": "python3"
    },
    "language_info": {
      "codemirror_mode": {
        "name": "ipython",
        "version": 3
      },
      "file_extension": ".py",
      "mimetype": "text/x-python",
      "name": "python",
      "nbconvert_exporter": "python",
      "pygments_lexer": "ipython3",
      "version": "3.7.3"
    },
    "colab": {
      "name": "analiseBalanco.ipynb",
      "provenance": [],
      "toc_visible": true,
      "include_colab_link": true
    }
  },
  "cells": [
    {
      "cell_type": "markdown",
      "metadata": {
        "id": "view-in-github",
        "colab_type": "text"
      },
      "source": [
        "<a href=\"https://colab.research.google.com/github/lds1804/Docs/blob/master/analiseBalanco.ipynb\" target=\"_parent\"><img src=\"https://colab.research.google.com/assets/colab-badge.svg\" alt=\"Open In Colab\"/></a>"
      ]
    },
    {
      "cell_type": "code",
      "metadata": {
        "id": "aMJ2ABZBKfVa",
        "colab_type": "code",
        "colab": {}
      },
      "source": [
        "listaEmpresas = ['ELET3', 'SGPS3', 'PMAM3',  'CTSA3', 'CRPG6', 'CMIG4', 'TKNO4', 'FESA4',\n",
        " 'TRPL4', 'BRGE12', 'GPCP3', 'MYPK3',   'CPLE6', 'CGRA4', 'CSMG3', 'PTNT4', 'RPAD3', 'PEAB3', 'MTSA4', 'VLID3',\n",
        "   'WLMM3',  'PATI3', 'GOAU3', 'GGBR4', 'GPIV33', 'GBIO33', 'AGRO3']"
      ],
      "execution_count": 0,
      "outputs": []
    },
    {
      "cell_type": "code",
      "metadata": {
        "id": "BWV6N7BsK7cI",
        "colab_type": "code",
        "colab": {}
      },
      "source": [
        "listaEmpresasAtual= ['ELET3',\n",
        " 'CTNM4', 'SGPS3',\n",
        " 'LIGT3', 'PMAM3',\n",
        " 'CTSA4', 'TKNO4',\n",
        " 'CRPG3', 'CMIG3', \n",
        " 'ROMI3', 'GPCP3',\n",
        " 'EALT4', 'TRPL3',\n",
        " 'MYPK3', 'ENBR3',\n",
        " 'CAML3', 'FESA3',\n",
        " 'PETR4',  'CPLE6', \n",
        " 'BRGE8', 'CGRA4', \n",
        " 'COCE3', 'CSMG3', \n",
        " 'PTNT4',\n",
        " 'CEPE6', \n",
        " 'PEAB3', 'MTSA4',\n",
        " 'VLID3', \n",
        " 'WLMM3', \n",
        " 'VIVT3', \n",
        " 'PATI3', 'VALE3',\n",
        " 'GOAU3',   \n",
        " 'GGBR3', 'RPAD5','GPIV33',\n",
        " 'GBIO33', 'AGRO3']"
      ],
      "execution_count": 0,
      "outputs": []
    },
    {
      "cell_type": "code",
      "metadata": {
        "id": "_75Onpw88pR7",
        "colab_type": "code",
        "colab": {}
      },
      "source": [
        "listaEmpresaSemNumero = []\n",
        "\n",
        "for empresa in listaEmpresas:\n",
        "\n",
        "  result = ''.join([i for i in empresa if not i.isdigit()])\n",
        "  listaEmpresaSemNumero.append(result)"
      ],
      "execution_count": 0,
      "outputs": []
    },
    {
      "cell_type": "code",
      "metadata": {
        "id": "m50T1UYl_G51",
        "colab_type": "code",
        "colab": {}
      },
      "source": [
        "listaEmpresaAtualSemNumero = []\n",
        "\n",
        "for empresa in listaEmpresasAtual:\n",
        "\n",
        "  result = ''.join([i for i in empresa if not i.isdigit()])\n",
        "  listaEmpresaAtualSemNumero.append(result)"
      ],
      "execution_count": 0,
      "outputs": []
    },
    {
      "cell_type": "code",
      "metadata": {
        "id": "hdfK0t7U_MBT",
        "colab_type": "code",
        "colab": {}
      },
      "source": [
        "listaEmpresaAtualSemNumero = set(listaEmpresaAtualSemNumero)\n",
        "listaEmpresaSemNumero = set(listaEmpresaSemNumero)"
      ],
      "execution_count": 0,
      "outputs": []
    },
    {
      "cell_type": "code",
      "metadata": {
        "id": "Qcp6UNQW_cwc",
        "colab_type": "code",
        "outputId": "95c18c91-3149-49c1-94dc-ed6164bce4c5",
        "colab": {
          "base_uri": "https://localhost:8080/",
          "height": 208
        }
      },
      "source": [
        "listaEmpresaAtualSemNumero.difference(listaEmpresaSemNumero)"
      ],
      "execution_count": 0,
      "outputs": [
        {
          "output_type": "execute_result",
          "data": {
            "text/plain": [
              "{'CAML',\n",
              " 'CEPE',\n",
              " 'COCE',\n",
              " 'CTNM',\n",
              " 'EALT',\n",
              " 'ENBR',\n",
              " 'LIGT',\n",
              " 'PETR',\n",
              " 'ROMI',\n",
              " 'VALE',\n",
              " 'VIVT'}"
            ]
          },
          "metadata": {
            "tags": []
          },
          "execution_count": 111
        }
      ]
    },
    {
      "cell_type": "code",
      "metadata": {
        "id": "1fRF3pGv_lBE",
        "colab_type": "code",
        "outputId": "1c7be8fe-6e0b-484a-d012-62bb34bc2470",
        "colab": {
          "base_uri": "https://localhost:8080/",
          "height": 34
        }
      },
      "source": [
        "len(listaEmpresaAtualSemNumero)"
      ],
      "execution_count": 0,
      "outputs": [
        {
          "output_type": "execute_result",
          "data": {
            "text/plain": [
              "38"
            ]
          },
          "metadata": {
            "tags": []
          },
          "execution_count": 126
        }
      ]
    },
    {
      "cell_type": "code",
      "metadata": {
        "id": "VBGYrK1wKh71",
        "colab_type": "code",
        "colab": {}
      },
      "source": [
        "import os\n",
        "entries = os.listdir('./balancos')"
      ],
      "execution_count": 0,
      "outputs": []
    },
    {
      "cell_type": "code",
      "metadata": {
        "id": "_I04aPc4XiRU",
        "colab_type": "code",
        "colab": {}
      },
      "source": [
        ""
      ],
      "execution_count": 0,
      "outputs": []
    },
    {
      "cell_type": "code",
      "metadata": {
        "id": "mrBfUvsiDSHw",
        "colab_type": "code",
        "colab": {
          "base_uri": "https://localhost:8080/",
          "height": 677
        },
        "outputId": "a093b5bb-9ab5-4df9-d86d-e81bc8b0b689"
      },
      "source": [
        "entries"
      ],
      "execution_count": 15,
      "outputs": [
        {
          "output_type": "execute_result",
          "data": {
            "text/plain": [
              "['bal_SANTANENSE.zip',\n",
              " 'bal_ELETROBR.zip',\n",
              " 'bal_METAL.zip',\n",
              " 'bal_COPASA.zip',\n",
              " 'bal_TEKNO.zip',\n",
              " 'bal_GRAZZIOTIN.zip',\n",
              " 'bal_VALID.zip',\n",
              " 'bal_VALE.zip',\n",
              " 'bal_Springs.zip',\n",
              " 'bal_COPEL.zip',\n",
              " 'bal_ELECTRO.zip',\n",
              " 'bal_ALFA.zip',\n",
              " 'bal_CRISTAL.zip',\n",
              " 'bal_GPC.zip',\n",
              " 'bal_TELEF.zip',\n",
              " 'bal_GERDAU.zip',\n",
              " 'bal_LIGHT.zip',\n",
              " 'bal_CIA(2).zip',\n",
              " 'bal_ROMI.zip',\n",
              " 'bal_BRASILAGRO.zip',\n",
              " 'bal_TRANSMISS.zip',\n",
              " 'bal_EDP.zip',\n",
              " 'bal_PARANAPANEMA.zip',\n",
              " 'bal_FERBASA.zip',\n",
              " 'bal_CONSORCIO.zip',\n",
              " 'bal_PANATLANTICA.zip',\n",
              " 'bal_WLM.zip',\n",
              " 'bal_METISA.zip',\n",
              " 'bal_COTEMINAS.zip',\n",
              " 'bal_CELPE.zip',\n",
              " 'bal_PETROBRAS(1).zip',\n",
              " 'bal_CAMIL.zip',\n",
              " 'bal_CIA.zip',\n",
              " 'bal_PETTENATI.zip',\n",
              " 'bal_GP.zip',\n",
              " 'bal_BIOTOSCANA.zip',\n",
              " 'bal_CEMIG.zip',\n",
              " 'bal_IOCHPE-MAXION.zip']"
            ]
          },
          "metadata": {
            "tags": []
          },
          "execution_count": 15
        }
      ]
    },
    {
      "cell_type": "code",
      "metadata": {
        "id": "uSgpg8_BrR45",
        "colab_type": "code",
        "colab": {}
      },
      "source": [
        "def empresaLucrativa(df5anos, entry):\n",
        "\n",
        "    lucrativa = True\n",
        "\n",
        "    df2019= df1[['30/09/2019', '30/06/2019', '31/03/2019']]\n",
        "    lucro2019Array = df2019.loc[\"Lucro/Prejuízo do Período\"].values\n",
        "    lucro2019 = sum (lucro2019Array)\n",
        "    \n",
        "    df2018= df1[[\"31/12/2018\",  \"30/09/2018\", \"30/06/2018\", \"31/03/2018\"]]\n",
        "    lucro2018Array = df2018.loc[\"Lucro/Prejuízo do Período\"].values\n",
        "    lucro2018 = sum (lucro2018Array)\n",
        "\n",
        "    df2017= df1[['31/12/2017', '30/09/2017', '30/06/2017','31/03/2017']]\n",
        "    lucro2017Array = df2017.loc[\"Lucro/Prejuízo do Período\"].values\n",
        "    lucro2017 = sum (lucro2017Array)\n",
        "\n",
        "    print(\"Entry def:\" + entry )\n",
        "    if(entry == \"bal_CRISTAL.zip\"):\n",
        "      periodo2016 = ['31/12/2016', '30/09/2016', '31/03/2016']\n",
        "    else:\n",
        "      periodo2016 = ['31/12/2016', '30/09/2016', '30/06/2016','31/03/2016' ]\n",
        "    print(periodo2016)\n",
        "    df2016= df1[periodo2016]\n",
        "    lucro2016Array = df2016.loc[\"Lucro/Prejuízo do Período\"].values\n",
        "    lucro2016 = sum (lucro2016Array)\n",
        "\n",
        "    df2015= df1[['31/12/2015', '30/09/2015', '30/06/2015','31/03/2015']]\n",
        "    lucro2015Array = df2015.loc[\"Lucro/Prejuízo do Período\"].values\n",
        "    lucro2015 = sum (lucro2015Array)\n",
        "\n",
        "    df2014= df1[['31/12/2014', '30/09/2014', '30/06/2014','31/03/2014']]\n",
        "    lucro2014Array = df2014.loc[\"Lucro/Prejuízo do Período\"].values\n",
        "    lucro2014 = sum (lucro2014Array)\n",
        "\n",
        "    if ((lucro2019 >= 0) and  (lucro2018 >= 0) and (lucro2017 >= 0) and (lucro2016 >= 0) and (lucro2015 >= 0) and (lucro2014 >= 0)):\n",
        "        return True \n",
        "    else:\n",
        "      return False"
      ],
      "execution_count": 0,
      "outputs": []
    },
    {
      "cell_type": "code",
      "metadata": {
        "id": "xi6Q8NC-iKRc",
        "colab_type": "code",
        "colab": {}
      },
      "source": [
        "import io\n",
        "from zipfile import ZipFile\n",
        "import pandas as pd\n",
        "\n",
        "\n",
        "def read_zip(zip_fn, extract_fn=None):\n",
        "    zf = ZipFile(zip_fn)\n",
        "    if extract_fn:\n",
        "        return zf.read(extract_fn)\n",
        "    else:\n",
        "        return {name:zf.read(name) for name in zf.namelist()}"
      ],
      "execution_count": 0,
      "outputs": []
    },
    {
      "cell_type": "code",
      "metadata": {
        "id": "Z5v0Q6-EekJC",
        "colab_type": "code",
        "outputId": "85d6e6e5-48e1-4fc0-83e4-dbeeb38cba2c",
        "colab": {
          "base_uri": "https://localhost:8080/",
          "height": 1000
        }
      },
      "source": [
        "import zipfile\n",
        "import pandas as pd\n",
        "\n",
        "listaAprovadasLucroPeriodo= []\n",
        "listaAumentoLucro= []\n",
        "\n",
        "for entry in entries:\n",
        "  print(entry)\n",
        "  archive = zipfile.ZipFile('balancos/'+ entry , 'r')\n",
        "  archive.extract(\"balanco.xls\")\n",
        "  \n",
        "  xls = pd.ExcelFile('balanco.xls' )\n",
        "\n",
        "  df1 = pd.read_excel(xls, 'Dem. Result.')\n",
        "\n",
        "  name = df1.columns[1]\n",
        "  df1 = df1.set_index(\"XLSWrite 1.34 Copyright(c) 1999,2000 Axolot Data\")\n",
        "\n",
        "  df1.columns = df1.iloc[0].values\n",
        "\n",
        "  df1 = df1.drop(df1.index[0])\n",
        "  #print(\"if \" + entry)\n",
        "\n",
        "  if(entry in [\"bal_BIOTOSCANA.zip\" , \"bal_CAMIL.zip\"] ):\n",
        "    continue\n",
        "\n",
        "  if(entry in \"bal_CIA.zip\" ):\n",
        "    print(\"if entry equal \" + entry) \n",
        "    periodo = [\"30/06/2019\", \"31/03/2019\", \"31/12/2018\",  \"30/09/2018\", \"30/06/2018\", \"31/03/2018\",  \"31/12/2017\", \"30/09/2017\", \"30/06/2017\", \"31/03/2017\", \"31/12/2016\" , \"30/09/2016\", \"30/06/2016\", \"31/03/2016\",  \"31/12/2015\", \"30/09/2015\", \"30/06/2015\", \"31/03/2015\" ]\n",
        "  elif(entry == \"bal_BRASILAGRO.zip\"): \n",
        "    periodo = [\"30/09/2019\",\"30/06/2019\", \"31/03/2019\", \"31/12/2018\",  \"30/09/2018\", \"30/06/2018\", \"31/03/2018\",  \"31/12/2017\", \"30/09/2017\", \n",
        "\"30/06/2017\", \"31/03/2017\", \"31/12/2016\" , \"30/09/2016\", \"30/06/2016\", \"31/03/2016\", \"30/09/2015\", \n",
        "\"30/06/2015\", \"31/03/2015\" ]\n",
        "  elif(entry == \"bal_CRISTAL.zip\"): \n",
        "    periodo = [\"30/09/2019\",\"30/06/2019\", \"31/03/2019\", \"31/12/2018\",  \"30/09/2018\", \"30/06/2018\", \"31/03/2018\",  \"31/12/2017\", \"30/09/2017\", \n",
        "\"30/06/2017\", \"31/03/2017\", \"31/12/2016\" , \"30/09/2016\", \"31/03/2016\",\"31/12/2015\",  \"30/09/2015\", \n",
        "\"30/06/2015\", \"31/03/2015\" ]\n",
        "  else: \n",
        "    periodo = [\"30/09/2019\",\"30/06/2019\", \"31/03/2019\", \"31/12/2018\",  \"30/09/2018\", \"30/06/2018\", \"31/03/2018\",  \"31/12/2017\", \"30/09/2017\", \n",
        "\"30/06/2017\", \"31/03/2017\", \"31/12/2016\" , \"30/09/2016\", \"30/06/2016\", \"31/03/2016\",  \"31/12/2015\", \"30/09/2015\", \n",
        "\"30/06/2015\", \"31/03/2015\" ]\n",
        "\n",
        "  df5anos = df1[periodo] \n",
        "\n",
        "\n",
        "  if(entry ==\"bal_PETTENATI.zip\"):\n",
        "    periodoLucroAnterior = ['31/12/2009', '30/09/2009',\n",
        "       '30/06/2009', '31/03/2009']\n",
        "  else: \n",
        "    periodoLucroAnterior = ['31/12/2010',\n",
        "       '30/09/2010', '30/06/2010', '31/03/2010']\n",
        "\n",
        "\n",
        "  df2018= df1[[\"31/12/2018\",  \"30/09/2018\", \"30/06/2018\", \"31/03/2018\"]]\n",
        "  df2010 = df1[periodoLucroAnterior]\n",
        "\n",
        "  lucro2018Array = df2018.loc[\"Lucro/Prejuízo do Período\"].values\n",
        "  lucro2010Array = df2010.loc[\"Lucro/Prejuízo do Período\"].values\n",
        "  lucro2018 = sum (lucro2018Array)\n",
        "  lucro2010 = sum (lucro2010Array)\n",
        "\n",
        "  lucros5anos = df5anos.loc[\"Lucro/Prejuízo do Período\"].values\n",
        "\n",
        "  if(empresaLucrativa(df5anos,entry)):\n",
        "    print(\"================Empresa lucrativa: \" + name) \n",
        "    name = name.replace(\"Demonstrativo de Resultado - \", \"\")\n",
        "    name = name.replace(\" - Trimestres Isolados\",\"\")\n",
        "    listaAprovadasLucroPeriodo.append(name)\n",
        "\n",
        "  if(lucro2018 > 1.2*lucro2010):\n",
        "    print(\"================Empresa aumento de lucro: \" + name) \n",
        "    name = name.replace(\"Demonstrativo de Resultado - \", \"\")\n",
        "    name = name.replace(\" - Trimestres Isolados\",\"\")\n",
        "    listaAumentoLucro.append(name)\n",
        "\n",
        "  \n",
        "  \n",
        "  \n",
        "\n",
        "  \n"
      ],
      "execution_count": 34,
      "outputs": [
        {
          "output_type": "stream",
          "text": [
            "bal_SANTANENSE.zip\n",
            "WARNING *** file size (70004) not 512 + multiple of sector size (512)\n",
            "WARNING *** OLE2 inconsistency: SSCS size is 0 but SSAT size is non-zero\n",
            "Entry def:bal_SANTANENSE.zip\n",
            "['31/12/2016', '30/09/2016', '30/06/2016', '31/03/2016']\n",
            "================Empresa aumento de lucro: Demonstrativo de Resultado - SANTANENSE - Trimestres Isolados\n",
            "bal_ELETROBR.zip\n",
            "WARNING *** file size (70004) not 512 + multiple of sector size (512)\n",
            "WARNING *** OLE2 inconsistency: SSCS size is 0 but SSAT size is non-zero\n",
            "Entry def:bal_ELETROBR.zip\n",
            "['31/12/2016', '30/09/2016', '30/06/2016', '31/03/2016']\n",
            "================Empresa aumento de lucro: Demonstrativo de Resultado - ELETROBRÁS - Trimestres Isolados\n",
            "bal_METAL.zip\n",
            "WARNING *** file size (70020) not 512 + multiple of sector size (512)\n",
            "WARNING *** OLE2 inconsistency: SSCS size is 0 but SSAT size is non-zero\n",
            "Entry def:bal_METAL.zip\n",
            "['31/12/2016', '30/09/2016', '30/06/2016', '31/03/2016']\n",
            "bal_COPASA.zip\n",
            "WARNING *** file size (70002) not 512 + multiple of sector size (512)\n",
            "WARNING *** OLE2 inconsistency: SSCS size is 0 but SSAT size is non-zero\n",
            "Entry def:bal_COPASA.zip\n",
            "['31/12/2016', '30/09/2016', '30/06/2016', '31/03/2016']\n",
            "bal_TEKNO.zip\n",
            "WARNING *** file size (69994) not 512 + multiple of sector size (512)\n",
            "WARNING *** OLE2 inconsistency: SSCS size is 0 but SSAT size is non-zero\n",
            "Entry def:bal_TEKNO.zip\n",
            "['31/12/2016', '30/09/2016', '30/06/2016', '31/03/2016']\n",
            "bal_GRAZZIOTIN.zip\n",
            "WARNING *** file size (70004) not 512 + multiple of sector size (512)\n",
            "WARNING *** OLE2 inconsistency: SSCS size is 0 but SSAT size is non-zero\n",
            "Entry def:bal_GRAZZIOTIN.zip\n",
            "['31/12/2016', '30/09/2016', '30/06/2016', '31/03/2016']\n",
            "================Empresa lucrativa: Demonstrativo de Resultado - GRAZZIOTIN - Trimestres Isolados\n",
            "================Empresa aumento de lucro: GRAZZIOTIN\n",
            "bal_VALID.zip\n",
            "WARNING *** file size (69994) not 512 + multiple of sector size (512)\n",
            "WARNING *** OLE2 inconsistency: SSCS size is 0 but SSAT size is non-zero\n",
            "Entry def:bal_VALID.zip\n",
            "['31/12/2016', '30/09/2016', '30/06/2016', '31/03/2016']\n",
            "================Empresa lucrativa: Demonstrativo de Resultado - VALID - Trimestres Isolados\n",
            "bal_VALE.zip\n",
            "WARNING *** file size (69992) not 512 + multiple of sector size (512)\n",
            "WARNING *** OLE2 inconsistency: SSCS size is 0 but SSAT size is non-zero\n",
            "Entry def:bal_VALE.zip\n",
            "['31/12/2016', '30/09/2016', '30/06/2016', '31/03/2016']\n",
            "bal_Springs.zip\n",
            "WARNING *** file size (69998) not 512 + multiple of sector size (512)\n",
            "WARNING *** OLE2 inconsistency: SSCS size is 0 but SSAT size is non-zero\n",
            "Entry def:bal_Springs.zip\n",
            "['31/12/2016', '30/09/2016', '30/06/2016', '31/03/2016']\n",
            "================Empresa aumento de lucro: Demonstrativo de Resultado - Springs - Trimestres Isolados\n",
            "bal_COPEL.zip\n",
            "WARNING *** file size (69994) not 512 + multiple of sector size (512)\n",
            "WARNING *** OLE2 inconsistency: SSCS size is 0 but SSAT size is non-zero\n",
            "Entry def:bal_COPEL.zip\n",
            "['31/12/2016', '30/09/2016', '30/06/2016', '31/03/2016']\n",
            "================Empresa lucrativa: Demonstrativo de Resultado - COPEL - Trimestres Isolados\n",
            "================Empresa aumento de lucro: COPEL\n",
            "bal_ELECTRO.zip\n",
            "WARNING *** file size (70028) not 512 + multiple of sector size (512)\n",
            "WARNING *** OLE2 inconsistency: SSCS size is 0 but SSAT size is non-zero\n",
            "Entry def:bal_ELECTRO.zip\n",
            "['31/12/2016', '30/09/2016', '30/06/2016', '31/03/2016']\n",
            "================Empresa aumento de lucro: Demonstrativo de Resultado - ELECTRO AÇO ALTONA S/A - Trimestres Isolados\n",
            "bal_ALFA.zip\n",
            "WARNING *** file size (70010) not 512 + multiple of sector size (512)\n",
            "WARNING *** OLE2 inconsistency: SSCS size is 0 but SSAT size is non-zero\n",
            "Entry def:bal_ALFA.zip\n",
            "['31/12/2016', '30/09/2016', '30/06/2016', '31/03/2016']\n",
            "================Empresa lucrativa: Demonstrativo de Resultado - ALFA HOLDINGS - Trimestres Isolados\n",
            "bal_CRISTAL.zip\n",
            "WARNING *** file size (69998) not 512 + multiple of sector size (512)\n",
            "WARNING *** OLE2 inconsistency: SSCS size is 0 but SSAT size is non-zero\n",
            "Entry def:bal_CRISTAL.zip\n",
            "['31/12/2016', '30/09/2016', '31/03/2016']\n",
            "================Empresa aumento de lucro: Demonstrativo de Resultado - CRISTAL - Trimestres Isolados\n",
            "bal_GPC.zip\n",
            "WARNING *** file size (70024) not 512 + multiple of sector size (512)\n",
            "WARNING *** OLE2 inconsistency: SSCS size is 0 but SSAT size is non-zero\n",
            "Entry def:bal_GPC.zip\n",
            "['31/12/2016', '30/09/2016', '30/06/2016', '31/03/2016']\n",
            "================Empresa aumento de lucro: Demonstrativo de Resultado - GPC PARTICIPACOES SA - Trimestres Isolados\n",
            "bal_TELEF.zip\n",
            "WARNING *** file size (70008) not 512 + multiple of sector size (512)\n",
            "WARNING *** OLE2 inconsistency: SSCS size is 0 but SSAT size is non-zero\n",
            "Entry def:bal_TELEF.zip\n",
            "['31/12/2016', '30/09/2016', '30/06/2016', '31/03/2016']\n",
            "================Empresa lucrativa: Demonstrativo de Resultado - TELEF BRASIL - Trimestres Isolados\n",
            "================Empresa aumento de lucro: TELEF BRASIL\n",
            "bal_GERDAU.zip\n",
            "WARNING *** file size (70006) not 512 + multiple of sector size (512)\n",
            "WARNING *** OLE2 inconsistency: SSCS size is 0 but SSAT size is non-zero\n",
            "Entry def:bal_GERDAU.zip\n",
            "['31/12/2016', '30/09/2016', '30/06/2016', '31/03/2016']\n",
            "bal_LIGHT.zip\n",
            "WARNING *** file size (70000) not 512 + multiple of sector size (512)\n",
            "WARNING *** OLE2 inconsistency: SSCS size is 0 but SSAT size is non-zero\n",
            "Entry def:bal_LIGHT.zip\n",
            "['31/12/2016', '30/09/2016', '30/06/2016', '31/03/2016']\n",
            "bal_CIA(2).zip\n",
            "WARNING *** file size (70032) not 512 + multiple of sector size (512)\n",
            "WARNING *** OLE2 inconsistency: SSCS size is 0 but SSAT size is non-zero\n",
            "Entry def:bal_CIA(2).zip\n",
            "['31/12/2016', '30/09/2016', '30/06/2016', '31/03/2016']\n",
            "================Empresa lucrativa: Demonstrativo de Resultado - CIA ENERG CEARA - COELCE - Trimestres Isolados\n",
            "bal_ROMI.zip\n",
            "WARNING *** file size (69992) not 512 + multiple of sector size (512)\n",
            "WARNING *** OLE2 inconsistency: SSCS size is 0 but SSAT size is non-zero\n",
            "Entry def:bal_ROMI.zip\n",
            "['31/12/2016', '30/09/2016', '30/06/2016', '31/03/2016']\n",
            "================Empresa aumento de lucro: Demonstrativo de Resultado - ROMI - Trimestres Isolados\n",
            "bal_BRASILAGRO.zip\n",
            "WARNING *** file size (70004) not 512 + multiple of sector size (512)\n",
            "WARNING *** OLE2 inconsistency: SSCS size is 0 but SSAT size is non-zero\n",
            "Entry def:bal_BRASILAGRO.zip\n",
            "['31/12/2016', '30/09/2016', '30/06/2016', '31/03/2016']\n"
          ],
          "name": "stdout"
        },
        {
          "output_type": "error",
          "ename": "KeyError",
          "evalue": "ignored",
          "traceback": [
            "\u001b[0;31m---------------------------------------------------------------------------\u001b[0m",
            "\u001b[0;31mKeyError\u001b[0m                                  Traceback (most recent call last)",
            "\u001b[0;32m<ipython-input-34-d03a2c3870b6>\u001b[0m in \u001b[0;36m<module>\u001b[0;34m()\u001b[0m\n\u001b[1;32m     62\u001b[0m   \u001b[0mlucros5anos\u001b[0m \u001b[0;34m=\u001b[0m \u001b[0mdf5anos\u001b[0m\u001b[0;34m.\u001b[0m\u001b[0mloc\u001b[0m\u001b[0;34m[\u001b[0m\u001b[0;34m\"Lucro/Prejuízo do Período\"\u001b[0m\u001b[0;34m]\u001b[0m\u001b[0;34m.\u001b[0m\u001b[0mvalues\u001b[0m\u001b[0;34m\u001b[0m\u001b[0;34m\u001b[0m\u001b[0m\n\u001b[1;32m     63\u001b[0m \u001b[0;34m\u001b[0m\u001b[0m\n\u001b[0;32m---> 64\u001b[0;31m   \u001b[0;32mif\u001b[0m\u001b[0;34m(\u001b[0m\u001b[0mempresaLucrativa\u001b[0m\u001b[0;34m(\u001b[0m\u001b[0mdf5anos\u001b[0m\u001b[0;34m,\u001b[0m\u001b[0mentry\u001b[0m\u001b[0;34m)\u001b[0m\u001b[0;34m)\u001b[0m\u001b[0;34m:\u001b[0m\u001b[0;34m\u001b[0m\u001b[0;34m\u001b[0m\u001b[0m\n\u001b[0m\u001b[1;32m     65\u001b[0m     \u001b[0mprint\u001b[0m\u001b[0;34m(\u001b[0m\u001b[0;34m\"================Empresa lucrativa: \"\u001b[0m \u001b[0;34m+\u001b[0m \u001b[0mname\u001b[0m\u001b[0;34m)\u001b[0m\u001b[0;34m\u001b[0m\u001b[0;34m\u001b[0m\u001b[0m\n\u001b[1;32m     66\u001b[0m     \u001b[0mname\u001b[0m \u001b[0;34m=\u001b[0m \u001b[0mname\u001b[0m\u001b[0;34m.\u001b[0m\u001b[0mreplace\u001b[0m\u001b[0;34m(\u001b[0m\u001b[0;34m\"Demonstrativo de Resultado - \"\u001b[0m\u001b[0;34m,\u001b[0m \u001b[0;34m\"\"\u001b[0m\u001b[0;34m)\u001b[0m\u001b[0;34m\u001b[0m\u001b[0;34m\u001b[0m\u001b[0m\n",
            "\u001b[0;32m<ipython-input-33-d2a04c82dd85>\u001b[0m in \u001b[0;36mempresaLucrativa\u001b[0;34m(df5anos, entry)\u001b[0m\n\u001b[1;32m     25\u001b[0m     \u001b[0mlucro2016\u001b[0m \u001b[0;34m=\u001b[0m \u001b[0msum\u001b[0m \u001b[0;34m(\u001b[0m\u001b[0mlucro2016Array\u001b[0m\u001b[0;34m)\u001b[0m\u001b[0;34m\u001b[0m\u001b[0;34m\u001b[0m\u001b[0m\n\u001b[1;32m     26\u001b[0m \u001b[0;34m\u001b[0m\u001b[0m\n\u001b[0;32m---> 27\u001b[0;31m     \u001b[0mdf2015\u001b[0m\u001b[0;34m=\u001b[0m \u001b[0mdf1\u001b[0m\u001b[0;34m[\u001b[0m\u001b[0;34m[\u001b[0m\u001b[0;34m'31/12/2015'\u001b[0m\u001b[0;34m,\u001b[0m \u001b[0;34m'30/09/2015'\u001b[0m\u001b[0;34m,\u001b[0m \u001b[0;34m'30/06/2015'\u001b[0m\u001b[0;34m,\u001b[0m\u001b[0;34m'31/03/2015'\u001b[0m\u001b[0;34m]\u001b[0m\u001b[0;34m]\u001b[0m\u001b[0;34m\u001b[0m\u001b[0;34m\u001b[0m\u001b[0m\n\u001b[0m\u001b[1;32m     28\u001b[0m     \u001b[0mlucro2015Array\u001b[0m \u001b[0;34m=\u001b[0m \u001b[0mdf2015\u001b[0m\u001b[0;34m.\u001b[0m\u001b[0mloc\u001b[0m\u001b[0;34m[\u001b[0m\u001b[0;34m\"Lucro/Prejuízo do Período\"\u001b[0m\u001b[0;34m]\u001b[0m\u001b[0;34m.\u001b[0m\u001b[0mvalues\u001b[0m\u001b[0;34m\u001b[0m\u001b[0;34m\u001b[0m\u001b[0m\n\u001b[1;32m     29\u001b[0m     \u001b[0mlucro2015\u001b[0m \u001b[0;34m=\u001b[0m \u001b[0msum\u001b[0m \u001b[0;34m(\u001b[0m\u001b[0mlucro2015Array\u001b[0m\u001b[0;34m)\u001b[0m\u001b[0;34m\u001b[0m\u001b[0;34m\u001b[0m\u001b[0m\n",
            "\u001b[0;32m/usr/local/lib/python3.6/dist-packages/pandas/core/frame.py\u001b[0m in \u001b[0;36m__getitem__\u001b[0;34m(self, key)\u001b[0m\n\u001b[1;32m   2999\u001b[0m             \u001b[0;32mif\u001b[0m \u001b[0mis_iterator\u001b[0m\u001b[0;34m(\u001b[0m\u001b[0mkey\u001b[0m\u001b[0;34m)\u001b[0m\u001b[0;34m:\u001b[0m\u001b[0;34m\u001b[0m\u001b[0;34m\u001b[0m\u001b[0m\n\u001b[1;32m   3000\u001b[0m                 \u001b[0mkey\u001b[0m \u001b[0;34m=\u001b[0m \u001b[0mlist\u001b[0m\u001b[0;34m(\u001b[0m\u001b[0mkey\u001b[0m\u001b[0;34m)\u001b[0m\u001b[0;34m\u001b[0m\u001b[0;34m\u001b[0m\u001b[0m\n\u001b[0;32m-> 3001\u001b[0;31m             \u001b[0mindexer\u001b[0m \u001b[0;34m=\u001b[0m \u001b[0mself\u001b[0m\u001b[0;34m.\u001b[0m\u001b[0mloc\u001b[0m\u001b[0;34m.\u001b[0m\u001b[0m_convert_to_indexer\u001b[0m\u001b[0;34m(\u001b[0m\u001b[0mkey\u001b[0m\u001b[0;34m,\u001b[0m \u001b[0maxis\u001b[0m\u001b[0;34m=\u001b[0m\u001b[0;36m1\u001b[0m\u001b[0;34m,\u001b[0m \u001b[0mraise_missing\u001b[0m\u001b[0;34m=\u001b[0m\u001b[0;32mTrue\u001b[0m\u001b[0;34m)\u001b[0m\u001b[0;34m\u001b[0m\u001b[0;34m\u001b[0m\u001b[0m\n\u001b[0m\u001b[1;32m   3002\u001b[0m \u001b[0;34m\u001b[0m\u001b[0m\n\u001b[1;32m   3003\u001b[0m         \u001b[0;31m# take() does not accept boolean indexers\u001b[0m\u001b[0;34m\u001b[0m\u001b[0;34m\u001b[0m\u001b[0;34m\u001b[0m\u001b[0m\n",
            "\u001b[0;32m/usr/local/lib/python3.6/dist-packages/pandas/core/indexing.py\u001b[0m in \u001b[0;36m_convert_to_indexer\u001b[0;34m(self, obj, axis, is_setter, raise_missing)\u001b[0m\n\u001b[1;32m   1283\u001b[0m                 \u001b[0;31m# When setting, missing keys are not allowed, even with .loc:\u001b[0m\u001b[0;34m\u001b[0m\u001b[0;34m\u001b[0m\u001b[0;34m\u001b[0m\u001b[0m\n\u001b[1;32m   1284\u001b[0m                 \u001b[0mkwargs\u001b[0m \u001b[0;34m=\u001b[0m \u001b[0;34m{\u001b[0m\u001b[0;34m\"raise_missing\"\u001b[0m\u001b[0;34m:\u001b[0m \u001b[0;32mTrue\u001b[0m \u001b[0;32mif\u001b[0m \u001b[0mis_setter\u001b[0m \u001b[0;32melse\u001b[0m \u001b[0mraise_missing\u001b[0m\u001b[0;34m}\u001b[0m\u001b[0;34m\u001b[0m\u001b[0;34m\u001b[0m\u001b[0m\n\u001b[0;32m-> 1285\u001b[0;31m                 \u001b[0;32mreturn\u001b[0m \u001b[0mself\u001b[0m\u001b[0;34m.\u001b[0m\u001b[0m_get_listlike_indexer\u001b[0m\u001b[0;34m(\u001b[0m\u001b[0mobj\u001b[0m\u001b[0;34m,\u001b[0m \u001b[0maxis\u001b[0m\u001b[0;34m,\u001b[0m \u001b[0;34m**\u001b[0m\u001b[0mkwargs\u001b[0m\u001b[0;34m)\u001b[0m\u001b[0;34m[\u001b[0m\u001b[0;36m1\u001b[0m\u001b[0;34m]\u001b[0m\u001b[0;34m\u001b[0m\u001b[0;34m\u001b[0m\u001b[0m\n\u001b[0m\u001b[1;32m   1286\u001b[0m         \u001b[0;32melse\u001b[0m\u001b[0;34m:\u001b[0m\u001b[0;34m\u001b[0m\u001b[0;34m\u001b[0m\u001b[0m\n\u001b[1;32m   1287\u001b[0m             \u001b[0;32mtry\u001b[0m\u001b[0;34m:\u001b[0m\u001b[0;34m\u001b[0m\u001b[0;34m\u001b[0m\u001b[0m\n",
            "\u001b[0;32m/usr/local/lib/python3.6/dist-packages/pandas/core/indexing.py\u001b[0m in \u001b[0;36m_get_listlike_indexer\u001b[0;34m(self, key, axis, raise_missing)\u001b[0m\n\u001b[1;32m   1090\u001b[0m \u001b[0;34m\u001b[0m\u001b[0m\n\u001b[1;32m   1091\u001b[0m         self._validate_read_indexer(\n\u001b[0;32m-> 1092\u001b[0;31m             \u001b[0mkeyarr\u001b[0m\u001b[0;34m,\u001b[0m \u001b[0mindexer\u001b[0m\u001b[0;34m,\u001b[0m \u001b[0mo\u001b[0m\u001b[0;34m.\u001b[0m\u001b[0m_get_axis_number\u001b[0m\u001b[0;34m(\u001b[0m\u001b[0maxis\u001b[0m\u001b[0;34m)\u001b[0m\u001b[0;34m,\u001b[0m \u001b[0mraise_missing\u001b[0m\u001b[0;34m=\u001b[0m\u001b[0mraise_missing\u001b[0m\u001b[0;34m\u001b[0m\u001b[0;34m\u001b[0m\u001b[0m\n\u001b[0m\u001b[1;32m   1093\u001b[0m         )\n\u001b[1;32m   1094\u001b[0m         \u001b[0;32mreturn\u001b[0m \u001b[0mkeyarr\u001b[0m\u001b[0;34m,\u001b[0m \u001b[0mindexer\u001b[0m\u001b[0;34m\u001b[0m\u001b[0;34m\u001b[0m\u001b[0m\n",
            "\u001b[0;32m/usr/local/lib/python3.6/dist-packages/pandas/core/indexing.py\u001b[0m in \u001b[0;36m_validate_read_indexer\u001b[0;34m(self, key, indexer, axis, raise_missing)\u001b[0m\n\u001b[1;32m   1183\u001b[0m             \u001b[0;32mif\u001b[0m \u001b[0;32mnot\u001b[0m \u001b[0;34m(\u001b[0m\u001b[0mself\u001b[0m\u001b[0;34m.\u001b[0m\u001b[0mname\u001b[0m \u001b[0;34m==\u001b[0m \u001b[0;34m\"loc\"\u001b[0m \u001b[0;32mand\u001b[0m \u001b[0;32mnot\u001b[0m \u001b[0mraise_missing\u001b[0m\u001b[0;34m)\u001b[0m\u001b[0;34m:\u001b[0m\u001b[0;34m\u001b[0m\u001b[0;34m\u001b[0m\u001b[0m\n\u001b[1;32m   1184\u001b[0m                 \u001b[0mnot_found\u001b[0m \u001b[0;34m=\u001b[0m \u001b[0mlist\u001b[0m\u001b[0;34m(\u001b[0m\u001b[0mset\u001b[0m\u001b[0;34m(\u001b[0m\u001b[0mkey\u001b[0m\u001b[0;34m)\u001b[0m \u001b[0;34m-\u001b[0m \u001b[0mset\u001b[0m\u001b[0;34m(\u001b[0m\u001b[0max\u001b[0m\u001b[0;34m)\u001b[0m\u001b[0;34m)\u001b[0m\u001b[0;34m\u001b[0m\u001b[0;34m\u001b[0m\u001b[0m\n\u001b[0;32m-> 1185\u001b[0;31m                 \u001b[0;32mraise\u001b[0m \u001b[0mKeyError\u001b[0m\u001b[0;34m(\u001b[0m\u001b[0;34m\"{} not in index\"\u001b[0m\u001b[0;34m.\u001b[0m\u001b[0mformat\u001b[0m\u001b[0;34m(\u001b[0m\u001b[0mnot_found\u001b[0m\u001b[0;34m)\u001b[0m\u001b[0;34m)\u001b[0m\u001b[0;34m\u001b[0m\u001b[0;34m\u001b[0m\u001b[0m\n\u001b[0m\u001b[1;32m   1186\u001b[0m \u001b[0;34m\u001b[0m\u001b[0m\n\u001b[1;32m   1187\u001b[0m             \u001b[0;31m# we skip the warning on Categorical/Interval\u001b[0m\u001b[0;34m\u001b[0m\u001b[0;34m\u001b[0m\u001b[0;34m\u001b[0m\u001b[0m\n",
            "\u001b[0;31mKeyError\u001b[0m: \"['31/12/2015'] not in index\""
          ]
        }
      ]
    },
    {
      "cell_type": "code",
      "metadata": {
        "id": "n0iWTokv1a67",
        "colab_type": "code",
        "outputId": "e831bcf0-7eda-45b5-9fbe-ea2102657ead",
        "colab": {
          "base_uri": "https://localhost:8080/",
          "height": 834
        }
      },
      "source": [
        "df5anos[['31/12/2016', '30/09/2016', '30/06/2016', '31/03/2016']]"
      ],
      "execution_count": 32,
      "outputs": [
        {
          "output_type": "execute_result",
          "data": {
            "text/html": [
              "<div>\n",
              "<style scoped>\n",
              "    .dataframe tbody tr th:only-of-type {\n",
              "        vertical-align: middle;\n",
              "    }\n",
              "\n",
              "    .dataframe tbody tr th {\n",
              "        vertical-align: top;\n",
              "    }\n",
              "\n",
              "    .dataframe thead th {\n",
              "        text-align: right;\n",
              "    }\n",
              "</style>\n",
              "<table border=\"1\" class=\"dataframe\">\n",
              "  <thead>\n",
              "    <tr style=\"text-align: right;\">\n",
              "      <th></th>\n",
              "      <th>31/12/2016</th>\n",
              "      <th>30/09/2016</th>\n",
              "      <th>30/06/2016</th>\n",
              "      <th>31/03/2016</th>\n",
              "    </tr>\n",
              "    <tr>\n",
              "      <th>XLSWrite 1.34 Copyright(c) 1999,2000 Axolot Data</th>\n",
              "      <th></th>\n",
              "      <th></th>\n",
              "      <th></th>\n",
              "      <th></th>\n",
              "    </tr>\n",
              "  </thead>\n",
              "  <tbody>\n",
              "    <tr>\n",
              "      <th>Receita Bruta de Vendas e/ou Serviços</th>\n",
              "      <td>0</td>\n",
              "      <td>0</td>\n",
              "      <td>0</td>\n",
              "      <td>0</td>\n",
              "    </tr>\n",
              "    <tr>\n",
              "      <th>Deduções da Receita Bruta</th>\n",
              "      <td>0</td>\n",
              "      <td>0</td>\n",
              "      <td>0</td>\n",
              "      <td>0</td>\n",
              "    </tr>\n",
              "    <tr>\n",
              "      <th>Receita Líquida de Vendas e/ou Serviços</th>\n",
              "      <td>99199</td>\n",
              "      <td>99184</td>\n",
              "      <td>90467</td>\n",
              "      <td>87757</td>\n",
              "    </tr>\n",
              "    <tr>\n",
              "      <th>Custo de Bens e/ou Serviços Vendidos</th>\n",
              "      <td>-76429</td>\n",
              "      <td>-83103</td>\n",
              "      <td>-78784</td>\n",
              "      <td>-76745</td>\n",
              "    </tr>\n",
              "    <tr>\n",
              "      <th>Resultado Bruto</th>\n",
              "      <td>22770</td>\n",
              "      <td>16081</td>\n",
              "      <td>11683</td>\n",
              "      <td>11012</td>\n",
              "    </tr>\n",
              "    <tr>\n",
              "      <th>Despesas Com Vendas</th>\n",
              "      <td>-9336</td>\n",
              "      <td>-8119</td>\n",
              "      <td>-7862</td>\n",
              "      <td>-6742</td>\n",
              "    </tr>\n",
              "    <tr>\n",
              "      <th>Despesas Gerais e Administrativas</th>\n",
              "      <td>-4629</td>\n",
              "      <td>-4618</td>\n",
              "      <td>-4801</td>\n",
              "      <td>-4902</td>\n",
              "    </tr>\n",
              "    <tr>\n",
              "      <th>Perdas pela Não Recuperabilidade de Ativos</th>\n",
              "      <td>0</td>\n",
              "      <td>0</td>\n",
              "      <td>0</td>\n",
              "      <td>0</td>\n",
              "    </tr>\n",
              "    <tr>\n",
              "      <th>Outras Receitas Operacionais</th>\n",
              "      <td>0</td>\n",
              "      <td>0</td>\n",
              "      <td>0</td>\n",
              "      <td>0</td>\n",
              "    </tr>\n",
              "    <tr>\n",
              "      <th>Outras Despesas Operacionais</th>\n",
              "      <td>-2600</td>\n",
              "      <td>-1882</td>\n",
              "      <td>-676</td>\n",
              "      <td>-422</td>\n",
              "    </tr>\n",
              "    <tr>\n",
              "      <th>Resultado da Equivalência Patrimonial</th>\n",
              "      <td>0</td>\n",
              "      <td>0</td>\n",
              "      <td>0</td>\n",
              "      <td>0</td>\n",
              "    </tr>\n",
              "    <tr>\n",
              "      <th>Financeiras</th>\n",
              "      <td>-3173</td>\n",
              "      <td>-4098</td>\n",
              "      <td>-2599</td>\n",
              "      <td>-328</td>\n",
              "    </tr>\n",
              "    <tr>\n",
              "      <th>Receitas Financeiras</th>\n",
              "      <td>1251</td>\n",
              "      <td>1201</td>\n",
              "      <td>1072</td>\n",
              "      <td>862</td>\n",
              "    </tr>\n",
              "    <tr>\n",
              "      <th>Despesas Financeiras</th>\n",
              "      <td>-4424</td>\n",
              "      <td>-5299</td>\n",
              "      <td>-3671</td>\n",
              "      <td>-1190</td>\n",
              "    </tr>\n",
              "    <tr>\n",
              "      <th>Resultado Não Operacional</th>\n",
              "      <td>0</td>\n",
              "      <td>0</td>\n",
              "      <td>0</td>\n",
              "      <td>0</td>\n",
              "    </tr>\n",
              "    <tr>\n",
              "      <th>Receitas</th>\n",
              "      <td>0</td>\n",
              "      <td>0</td>\n",
              "      <td>0</td>\n",
              "      <td>0</td>\n",
              "    </tr>\n",
              "    <tr>\n",
              "      <th>Despesas</th>\n",
              "      <td>0</td>\n",
              "      <td>0</td>\n",
              "      <td>0</td>\n",
              "      <td>0</td>\n",
              "    </tr>\n",
              "    <tr>\n",
              "      <th>Resultado Antes Tributação/Participações</th>\n",
              "      <td>3032</td>\n",
              "      <td>-2636</td>\n",
              "      <td>-4255</td>\n",
              "      <td>-1382</td>\n",
              "    </tr>\n",
              "    <tr>\n",
              "      <th>Provisão para IR e Contribuição Social</th>\n",
              "      <td>-231</td>\n",
              "      <td>-122</td>\n",
              "      <td>0</td>\n",
              "      <td>-23</td>\n",
              "    </tr>\n",
              "    <tr>\n",
              "      <th>IR Diferido</th>\n",
              "      <td>-788</td>\n",
              "      <td>1319</td>\n",
              "      <td>1430</td>\n",
              "      <td>498</td>\n",
              "    </tr>\n",
              "    <tr>\n",
              "      <th>Participações/Contribuições Estatutárias</th>\n",
              "      <td>0</td>\n",
              "      <td>0</td>\n",
              "      <td>0</td>\n",
              "      <td>0</td>\n",
              "    </tr>\n",
              "    <tr>\n",
              "      <th>Reversão dos Juros sobre Capital Próprio</th>\n",
              "      <td>0</td>\n",
              "      <td>0</td>\n",
              "      <td>0</td>\n",
              "      <td>0</td>\n",
              "    </tr>\n",
              "    <tr>\n",
              "      <th>Part. de Acionistas Não Controladores</th>\n",
              "      <td>0</td>\n",
              "      <td>0</td>\n",
              "      <td>0</td>\n",
              "      <td>0</td>\n",
              "    </tr>\n",
              "    <tr>\n",
              "      <th>Lucro/Prejuízo do Período</th>\n",
              "      <td>2013</td>\n",
              "      <td>-1439</td>\n",
              "      <td>-2825</td>\n",
              "      <td>-907</td>\n",
              "    </tr>\n",
              "  </tbody>\n",
              "</table>\n",
              "</div>"
            ],
            "text/plain": [
              "                                                 31/12/2016  ... 31/03/2016\n",
              "XLSWrite 1.34 Copyright(c) 1999,2000 Axolot Data             ...           \n",
              "Receita Bruta de Vendas e/ou Serviços                     0  ...          0\n",
              "Deduções da Receita Bruta                                 0  ...          0\n",
              "Receita Líquida de Vendas e/ou Serviços               99199  ...      87757\n",
              "Custo de Bens e/ou Serviços Vendidos                 -76429  ...     -76745\n",
              "Resultado Bruto                                       22770  ...      11012\n",
              "Despesas Com Vendas                                   -9336  ...      -6742\n",
              "Despesas Gerais e Administrativas                     -4629  ...      -4902\n",
              "Perdas pela Não Recuperabilidade de Ativos                0  ...          0\n",
              "Outras Receitas Operacionais                              0  ...          0\n",
              "Outras Despesas Operacionais                          -2600  ...       -422\n",
              "Resultado da Equivalência Patrimonial                     0  ...          0\n",
              "Financeiras                                           -3173  ...       -328\n",
              "Receitas Financeiras                                   1251  ...        862\n",
              "Despesas Financeiras                                  -4424  ...      -1190\n",
              "Resultado Não Operacional                                 0  ...          0\n",
              "Receitas                                                  0  ...          0\n",
              "Despesas                                                  0  ...          0\n",
              "Resultado Antes Tributação/Participações               3032  ...      -1382\n",
              "Provisão para IR e Contribuição Social                 -231  ...        -23\n",
              "IR Diferido                                            -788  ...        498\n",
              "Participações/Contribuições Estatutárias                  0  ...          0\n",
              "Reversão dos Juros sobre Capital Próprio                  0  ...          0\n",
              "Part. de Acionistas Não Controladores                     0  ...          0\n",
              "Lucro/Prejuízo do Período                              2013  ...       -907\n",
              "\n",
              "[24 rows x 4 columns]"
            ]
          },
          "metadata": {
            "tags": []
          },
          "execution_count": 32
        }
      ]
    },
    {
      "cell_type": "code",
      "metadata": {
        "id": "9DFQtXibkbGE",
        "colab_type": "code",
        "outputId": "a07e4029-d4f5-41db-cc51-325e3006ffe3",
        "colab": {
          "base_uri": "https://localhost:8080/",
          "height": 312
        }
      },
      "source": [
        "listaAumentoLucro\n",
        "\n"
      ],
      "execution_count": 0,
      "outputs": [
        {
          "output_type": "execute_result",
          "data": {
            "text/plain": [
              "['FERBASA',\n",
              " 'CIA. DE PARTICIPAÇÕES ALIANÇA DA BAHIA',\n",
              " 'Springs',\n",
              " 'PANATLANTICA',\n",
              " 'PETTENATI',\n",
              " 'TELEF BRASIL',\n",
              " 'COTEMINAS',\n",
              " 'IOCHPE-MAXION',\n",
              " 'ROMI',\n",
              " 'ELETROBRÁS',\n",
              " 'GRAZZIOTIN',\n",
              " 'BRASILAGRO',\n",
              " 'COPEL',\n",
              " 'SANTANENSE',\n",
              " 'GPC PARTICIPACOES SA',\n",
              " 'EDP ENERGIAS DO BRASIL S/A',\n",
              " 'TRANSMISSÃO PAULISTA']"
            ]
          },
          "metadata": {
            "tags": []
          },
          "execution_count": 145
        }
      ]
    },
    {
      "cell_type": "code",
      "metadata": {
        "id": "moSGVO660BM9",
        "colab_type": "code",
        "outputId": "5e0b45fb-9654-40c1-c421-df60adc1c31a",
        "colab": {
          "base_uri": "https://localhost:8080/",
          "height": 173
        }
      },
      "source": [
        "listaAprovadasLucroPeriodo"
      ],
      "execution_count": 0,
      "outputs": [
        {
          "output_type": "execute_result",
          "data": {
            "text/plain": [
              "['CIA. DE PARTICIPAÇÕES ALIANÇA DA BAHIA',\n",
              " 'METISA',\n",
              " 'CONSORCIO ALFA',\n",
              " 'PANATLANTICA',\n",
              " 'TELEF BRASIL',\n",
              " 'GRAZZIOTIN',\n",
              " 'EDP ENERGIAS DO BRASIL S/A',\n",
              " 'TRANSMISSÃO PAULISTA',\n",
              " 'ALFA HOLDINGS']"
            ]
          },
          "metadata": {
            "tags": []
          },
          "execution_count": 146
        }
      ]
    },
    {
      "cell_type": "code",
      "metadata": {
        "id": "XtKZHaF2s1VL",
        "colab_type": "code",
        "colab": {}
      },
      "source": [
        "interseccaoLista = list(set(listaAumentoLucro) & set(listaAprovadasLucroPeriodo))"
      ],
      "execution_count": 0,
      "outputs": []
    },
    {
      "cell_type": "code",
      "metadata": {
        "id": "AcQZESe8swrV",
        "colab_type": "code",
        "outputId": "cc8ea1fc-2bfe-4ff0-c6e2-1bdc5bbf5cb9",
        "colab": {
          "base_uri": "https://localhost:8080/",
          "height": 121
        }
      },
      "source": [
        "interseccaoLista"
      ],
      "execution_count": 0,
      "outputs": [
        {
          "output_type": "execute_result",
          "data": {
            "text/plain": [
              "['GRAZZIOTIN',\n",
              " 'TRANSMISSÃO PAULISTA',\n",
              " 'PANATLANTICA',\n",
              " 'TELEF BRASIL',\n",
              " 'CIA. DE PARTICIPAÇÕES ALIANÇA DA BAHIA',\n",
              " 'EDP ENERGIAS DO BRASIL S/A']"
            ]
          },
          "metadata": {
            "tags": []
          },
          "execution_count": 149
        }
      ]
    },
    {
      "cell_type": "code",
      "metadata": {
        "id": "rGBaTaALKiGm",
        "colab_type": "code",
        "colab": {}
      },
      "source": [
        ""
      ],
      "execution_count": 0,
      "outputs": []
    },
    {
      "cell_type": "code",
      "metadata": {
        "id": "0GdQJWeFKfVq",
        "colab_type": "code",
        "outputId": "7ddc3ad9-c27b-43ef-a9ec-e44e0b52da25",
        "colab": {}
      },
      "source": [
        ""
      ],
      "execution_count": 0,
      "outputs": [
        {
          "output_type": "stream",
          "text": [
            "WARNING *** file size (69996) not 512 + multiple of sector size (512)\n",
            "WARNING *** OLE2 inconsistency: SSCS size is 0 but SSAT size is non-zero\n"
          ],
          "name": "stdout"
        }
      ]
    },
    {
      "cell_type": "code",
      "metadata": {
        "id": "llCgE7ryKfV0",
        "colab_type": "code",
        "colab": {}
      },
      "source": [
        ""
      ],
      "execution_count": 0,
      "outputs": []
    },
    {
      "cell_type": "code",
      "metadata": {
        "id": "O-aoAkOsKfV7",
        "colab_type": "code",
        "colab": {}
      },
      "source": [
        ""
      ],
      "execution_count": 0,
      "outputs": []
    },
    {
      "cell_type": "code",
      "metadata": {
        "id": "0s2v0TDbKfWB",
        "colab_type": "code",
        "colab": {}
      },
      "source": [
        ""
      ],
      "execution_count": 0,
      "outputs": []
    },
    {
      "cell_type": "code",
      "metadata": {
        "id": "87TldB9fKfWH",
        "colab_type": "code",
        "colab": {}
      },
      "source": [
        ""
      ],
      "execution_count": 0,
      "outputs": []
    },
    {
      "cell_type": "code",
      "metadata": {
        "id": "b7YYna_1KfWM",
        "colab_type": "code",
        "colab": {}
      },
      "source": [
        ""
      ],
      "execution_count": 0,
      "outputs": []
    },
    {
      "cell_type": "code",
      "metadata": {
        "id": "2BFzZDdMKfWQ",
        "colab_type": "code",
        "outputId": "1e7243df-8a3f-4019-f219-8768246302e0",
        "colab": {}
      },
      "source": [
        ""
      ],
      "execution_count": 0,
      "outputs": [
        {
          "output_type": "execute_result",
          "data": {
            "text/plain": [
              "array([418243.008, 389001.984, 306848.992, 335280, 381430.016, 336604.992,\n",
              "       285004, 300249.984, 312030.016, 272166.016, 257703.008, 323188.096,\n",
              "       257043.008, 254996.992, 282396, 383916.032, 265408.992, 260880.992,\n",
              "       245859.008], dtype=object)"
            ]
          },
          "metadata": {
            "tags": []
          },
          "execution_count": 34
        }
      ]
    },
    {
      "cell_type": "code",
      "metadata": {
        "id": "S0N-uCbOKfWW",
        "colab_type": "code",
        "colab": {}
      },
      "source": [
        "\n",
        "    "
      ],
      "execution_count": 0,
      "outputs": []
    },
    {
      "cell_type": "code",
      "metadata": {
        "id": "ID4no3SmKfWb",
        "colab_type": "code",
        "outputId": "fe984c19-ac5f-49ec-fbbb-7929c7cb0853",
        "colab": {}
      },
      "source": [
        ""
      ],
      "execution_count": 0,
      "outputs": [
        {
          "output_type": "execute_result",
          "data": {
            "text/plain": [
              "True"
            ]
          },
          "metadata": {
            "tags": []
          },
          "execution_count": 41
        }
      ]
    },
    {
      "cell_type": "code",
      "metadata": {
        "id": "bf9y94BPKfWg",
        "colab_type": "code",
        "colab": {}
      },
      "source": [
        "df2019= df1[[\"30/09/2019\",\"30/06/2019\", \"31/03/2019\"]]\n"
      ],
      "execution_count": 0,
      "outputs": []
    },
    {
      "cell_type": "code",
      "metadata": {
        "id": "w1YcxAVkKfWm",
        "colab_type": "code",
        "colab": {}
      },
      "source": [
        ""
      ],
      "execution_count": 0,
      "outputs": []
    }
  ]
}