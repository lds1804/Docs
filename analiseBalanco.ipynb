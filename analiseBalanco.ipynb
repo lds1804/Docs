{
  "nbformat": 4,
  "nbformat_minor": 0,
  "metadata": {
    "kernelspec": {
      "display_name": "Python 3",
      "language": "python",
      "name": "python3"
    },
    "language_info": {
      "codemirror_mode": {
        "name": "ipython",
        "version": 3
      },
      "file_extension": ".py",
      "mimetype": "text/x-python",
      "name": "python",
      "nbconvert_exporter": "python",
      "pygments_lexer": "ipython3",
      "version": "3.7.3"
    },
    "colab": {
      "name": "analiseBalanco.ipynb",
      "provenance": [],
      "toc_visible": true,
      "include_colab_link": true
    }
  },
  "cells": [
    {
      "cell_type": "markdown",
      "metadata": {
        "id": "view-in-github",
        "colab_type": "text"
      },
      "source": [
        "<a href=\"https://colab.research.google.com/github/lds1804/Docs/blob/master/analiseBalanco.ipynb\" target=\"_parent\"><img src=\"https://colab.research.google.com/assets/colab-badge.svg\" alt=\"Open In Colab\"/></a>"
      ]
    },
    {
      "cell_type": "code",
      "metadata": {
        "id": "aMJ2ABZBKfVa",
        "colab_type": "code",
        "colab": {}
      },
      "source": [
        "listaEmpresas = ['ELET3', 'SGPS3', 'PMAM3',  'CTSA3', 'CRPG6', 'CMIG4', 'TKNO4', 'FESA4',\n",
        " 'TRPL4', 'BRGE12', 'GPCP3', 'MYPK3',   'CPLE6', 'CGRA4', 'CSMG3', 'PTNT4', 'RPAD3', 'PEAB3', 'MTSA4', 'VLID3',\n",
        "   'WLMM3',  'PATI3', 'GOAU3', 'GGBR4', 'GPIV33', 'GBIO33', 'AGRO3']"
      ],
      "execution_count": 0,
      "outputs": []
    },
    {
      "cell_type": "code",
      "metadata": {
        "id": "BWV6N7BsK7cI",
        "colab_type": "code",
        "colab": {
          "base_uri": "https://localhost:8080/",
          "height": 34
        },
        "outputId": "fd9cb916-03e8-46dc-9de2-b745486ba852"
      },
      "source": [
        "len(listaEmpresas)"
      ],
      "execution_count": 5,
      "outputs": [
        {
          "output_type": "execute_result",
          "data": {
            "text/plain": [
              "27"
            ]
          },
          "metadata": {
            "tags": []
          },
          "execution_count": 5
        }
      ]
    },
    {
      "cell_type": "code",
      "metadata": {
        "id": "VBGYrK1wKh71",
        "colab_type": "code",
        "colab": {}
      },
      "source": [
        " import os\n",
        "entries = os.listdir('./balancos')"
      ],
      "execution_count": 0,
      "outputs": []
    },
    {
      "cell_type": "code",
      "metadata": {
        "id": "_I04aPc4XiRU",
        "colab_type": "code",
        "colab": {
          "base_uri": "https://localhost:8080/",
          "height": 52
        },
        "outputId": "3d809547-89c4-4839-8b38-746e27069fe2"
      },
      "source": [
        "len(entries)\n",
        "!pip install zipfile"
      ],
      "execution_count": 11,
      "outputs": [
        {
          "output_type": "stream",
          "text": [
            "\u001b[31mERROR: Could not find a version that satisfies the requirement zipfile (from versions: none)\u001b[0m\n",
            "\u001b[31mERROR: No matching distribution found for zipfile\u001b[0m\n"
          ],
          "name": "stdout"
        }
      ]
    },
    {
      "cell_type": "code",
      "metadata": {
        "id": "uSgpg8_BrR45",
        "colab_type": "code",
        "colab": {}
      },
      "source": [
        "def empresaLucrativa(arrayLucros):\n",
        "\n",
        "    lucrativa = True\n",
        "    for lucro in arrayLucros: \n",
        "        if lucro < 0: \n",
        "            lucrativa = False\n",
        "    return lucrativa"
      ],
      "execution_count": 0,
      "outputs": []
    },
    {
      "cell_type": "code",
      "metadata": {
        "id": "xi6Q8NC-iKRc",
        "colab_type": "code",
        "colab": {}
      },
      "source": [
        "import io\n",
        "from zipfile import ZipFile\n",
        "import pandas as pd\n",
        "\n",
        "\n",
        "def read_zip(zip_fn, extract_fn=None):\n",
        "    zf = ZipFile(zip_fn)\n",
        "    if extract_fn:\n",
        "        return zf.read(extract_fn)\n",
        "    else:\n",
        "        return {name:zf.read(name) for name in zf.namelist()}"
      ],
      "execution_count": 0,
      "outputs": []
    },
    {
      "cell_type": "code",
      "metadata": {
        "id": "Z5v0Q6-EekJC",
        "colab_type": "code",
        "colab": {
          "base_uri": "https://localhost:8080/",
          "height": 1000
        },
        "outputId": "bd8dfead-7e8e-4190-ddaf-30a33d3bdbdd"
      },
      "source": [
        "import zipfile\n",
        "import pandas as pd\n",
        "\n",
        "listaAprovadasLucroPeriodo= []\n",
        "\n",
        "for entry in entries:\n",
        "  #print(entry)\n",
        "  archive = zipfile.ZipFile('balancos/'+ entry , 'r')\n",
        "  archive.extract(\"balanco.xls\")\n",
        "  \n",
        "  xls = pd.ExcelFile('balanco.xls' )\n",
        "\n",
        "  df1 = pd.read_excel(xls, 'Dem. Result.')\n",
        "\n",
        "  name = df1.columns[1]\n",
        "  df1 = df1.set_index(\"XLSWrite 1.34 Copyright(c) 1999,2000 Axolot Data\")\n",
        "\n",
        "  df1.columns = df1.iloc[0].values\n",
        "\n",
        "  df1 = df1.drop(df1.index[0])\n",
        "  #print(\"if \" + entry)\n",
        "\n",
        "  if(entry == \"bal_BIOTOSCANA.zip\"):\n",
        "    continue\n",
        "\n",
        "  if(entry in \"bal_CIA.zip\" ):\n",
        "    print(\"if entry equal \" + entry) \n",
        "    periodo = [\"30/06/2019\", \"31/03/2019\", \"31/12/2018\",  \"30/09/2018\", \"30/06/2018\", \"31/03/2018\",  \"31/12/2017\", \"30/09/2017\", \"30/06/2017\", \"31/03/2017\", \"31/12/2016\" , \"30/09/2016\", \"30/06/2016\", \"31/03/2016\",  \"31/12/2015\", \"30/09/2015\", \"30/06/2015\", \"31/03/2015\" ]\n",
        "  elif(entry == \"bal_BRASILAGRO.zip\"): \n",
        "    periodo = [\"30/09/2019\",\"30/06/2019\", \"31/03/2019\", \"31/12/2018\",  \"30/09/2018\", \"30/06/2018\", \"31/03/2018\",  \"31/12/2017\", \"30/09/2017\", \n",
        "\"30/06/2017\", \"31/03/2017\", \"31/12/2016\" , \"30/09/2016\", \"30/06/2016\", \"31/03/2016\", \"30/09/2015\", \n",
        "\"30/06/2015\", \"31/03/2015\" ]\n",
        "  elif(entry == \"bal_CRISTAL.zip\"): \n",
        "    periodo = [\"30/09/2019\",\"30/06/2019\", \"31/03/2019\", \"31/12/2018\",  \"30/09/2018\", \"30/06/2018\", \"31/03/2018\",  \"31/12/2017\", \"30/09/2017\", \n",
        "\"30/06/2017\", \"31/03/2017\", \"31/12/2016\" , \"30/09/2016\", \"31/03/2016\",\"31/12/2015\",  \"30/09/2015\", \n",
        "\"30/06/2015\", \"31/03/2015\" ]\n",
        "  else: \n",
        "    periodo = [\"30/09/2019\",\"30/06/2019\", \"31/03/2019\", \"31/12/2018\",  \"30/09/2018\", \"30/06/2018\", \"31/03/2018\",  \"31/12/2017\", \"30/09/2017\", \n",
        "\"30/06/2017\", \"31/03/2017\", \"31/12/2016\" , \"30/09/2016\", \"30/06/2016\", \"31/03/2016\",  \"31/12/2015\", \"30/09/2015\", \n",
        "\"30/06/2015\", \"31/03/2015\" ]\n",
        "\n",
        "  df5anos = df1[periodo] \n",
        "\n",
        "\n",
        "\n",
        "  lucros5anos = df5anos.loc[\"Lucro/Prejuízo do Período\"].values\n",
        "\n",
        "  if(empresaLucrativa(lucros5anos)):\n",
        "    print(\"================Empresa lucrativa: \" + name) \n",
        "    name = name.replace(\"Demonstrativo de Resultado - \", \"\")\n",
        "    name = name.replace(\" - Trimestres Isolados\",\"\")\n",
        "    listaAprovadasLucroPeriodo.append(name)\n",
        "  \n"
      ],
      "execution_count": 89,
      "outputs": [
        {
          "output_type": "stream",
          "text": [
            "WARNING *** file size (69994) not 512 + multiple of sector size (512)\n",
            "WARNING *** OLE2 inconsistency: SSCS size is 0 but SSAT size is non-zero\n",
            "WARNING *** file size (69998) not 512 + multiple of sector size (512)\n",
            "WARNING *** OLE2 inconsistency: SSCS size is 0 but SSAT size is non-zero\n",
            "WARNING *** file size (70060) not 512 + multiple of sector size (512)\n",
            "WARNING *** OLE2 inconsistency: SSCS size is 0 but SSAT size is non-zero\n",
            "if entry equal bal_CIA.zip\n",
            "================Empresa lucrativa: Demonstrativo de Resultado - CIA. DE PARTICIPAÇÕES ALIANÇA DA BAHIA - Trimestres Isolados\n",
            "WARNING *** file size (69998) not 512 + multiple of sector size (512)\n",
            "WARNING *** OLE2 inconsistency: SSCS size is 0 but SSAT size is non-zero\n",
            "WARNING *** file size (69996) not 512 + multiple of sector size (512)\n",
            "WARNING *** OLE2 inconsistency: SSCS size is 0 but SSAT size is non-zero\n",
            "================Empresa lucrativa: Demonstrativo de Resultado - METISA - Trimestres Isolados\n",
            "WARNING *** file size (70012) not 512 + multiple of sector size (512)\n",
            "WARNING *** OLE2 inconsistency: SSCS size is 0 but SSAT size is non-zero\n",
            "================Empresa lucrativa: Demonstrativo de Resultado - CONSORCIO ALFA - Trimestres Isolados\n",
            "WARNING *** file size (69994) not 512 + multiple of sector size (512)\n",
            "WARNING *** OLE2 inconsistency: SSCS size is 0 but SSAT size is non-zero\n",
            "WARNING *** file size (70008) not 512 + multiple of sector size (512)\n",
            "WARNING *** OLE2 inconsistency: SSCS size is 0 but SSAT size is non-zero\n",
            "================Empresa lucrativa: Demonstrativo de Resultado - PANATLANTICA - Trimestres Isolados\n",
            "WARNING *** file size (70002) not 512 + multiple of sector size (512)\n",
            "WARNING *** OLE2 inconsistency: SSCS size is 0 but SSAT size is non-zero\n",
            "WARNING *** file size (70010) not 512 + multiple of sector size (512)\n",
            "WARNING *** OLE2 inconsistency: SSCS size is 0 but SSAT size is non-zero\n",
            "WARNING *** file size (70018) not 512 + multiple of sector size (512)\n",
            "WARNING *** OLE2 inconsistency: SSCS size is 0 but SSAT size is non-zero\n",
            "WARNING *** file size (70004) not 512 + multiple of sector size (512)\n",
            "WARNING *** OLE2 inconsistency: SSCS size is 0 but SSAT size is non-zero\n",
            "WARNING *** file size (70004) not 512 + multiple of sector size (512)\n",
            "WARNING *** OLE2 inconsistency: SSCS size is 0 but SSAT size is non-zero\n",
            "================Empresa lucrativa: Demonstrativo de Resultado - GRAZZIOTIN - Trimestres Isolados\n",
            "WARNING *** file size (25123) not 512 + multiple of sector size (512)\n",
            "WARNING *** OLE2 inconsistency: SSCS size is 0 but SSAT size is non-zero\n",
            "WARNING *** file size (70006) not 512 + multiple of sector size (512)\n",
            "WARNING *** OLE2 inconsistency: SSCS size is 0 but SSAT size is non-zero\n",
            "WARNING *** file size (69994) not 512 + multiple of sector size (512)\n",
            "WARNING *** OLE2 inconsistency: SSCS size is 0 but SSAT size is non-zero\n",
            "WARNING *** file size (70004) not 512 + multiple of sector size (512)\n",
            "WARNING *** OLE2 inconsistency: SSCS size is 0 but SSAT size is non-zero\n",
            "WARNING *** file size (69994) not 512 + multiple of sector size (512)\n",
            "WARNING *** OLE2 inconsistency: SSCS size is 0 but SSAT size is non-zero\n",
            "WARNING *** file size (70004) not 512 + multiple of sector size (512)\n",
            "WARNING *** OLE2 inconsistency: SSCS size is 0 but SSAT size is non-zero\n",
            "WARNING *** file size (69990) not 512 + multiple of sector size (512)\n",
            "WARNING *** OLE2 inconsistency: SSCS size is 0 but SSAT size is non-zero\n",
            "WARNING *** file size (70020) not 512 + multiple of sector size (512)\n",
            "WARNING *** OLE2 inconsistency: SSCS size is 0 but SSAT size is non-zero\n",
            "WARNING *** file size (70024) not 512 + multiple of sector size (512)\n",
            "WARNING *** OLE2 inconsistency: SSCS size is 0 but SSAT size is non-zero\n",
            "WARNING *** file size (70002) not 512 + multiple of sector size (512)\n",
            "WARNING *** OLE2 inconsistency: SSCS size is 0 but SSAT size is non-zero\n",
            "WARNING *** file size (70024) not 512 + multiple of sector size (512)\n",
            "WARNING *** OLE2 inconsistency: SSCS size is 0 but SSAT size is non-zero\n",
            "================Empresa lucrativa: Demonstrativo de Resultado - TRANSMISSÃO PAULISTA - Trimestres Isolados\n",
            "WARNING *** file size (70010) not 512 + multiple of sector size (512)\n",
            "WARNING *** OLE2 inconsistency: SSCS size is 0 but SSAT size is non-zero\n",
            "================Empresa lucrativa: Demonstrativo de Resultado - ALFA HOLDINGS - Trimestres Isolados\n",
            "WARNING *** file size (70022) not 512 + multiple of sector size (512)\n",
            "WARNING *** OLE2 inconsistency: SSCS size is 0 but SSAT size is non-zero\n",
            "WARNING *** file size (69998) not 512 + multiple of sector size (512)\n",
            "WARNING *** OLE2 inconsistency: SSCS size is 0 but SSAT size is non-zero\n"
          ],
          "name": "stdout"
        }
      ]
    },
    {
      "cell_type": "code",
      "metadata": {
        "id": "9DFQtXibkbGE",
        "colab_type": "code",
        "colab": {}
      },
      "source": [
        "\n",
        "\n"
      ],
      "execution_count": 0,
      "outputs": []
    },
    {
      "cell_type": "code",
      "metadata": {
        "id": "moSGVO660BM9",
        "colab_type": "code",
        "colab": {
          "base_uri": "https://localhost:8080/",
          "height": 139
        },
        "outputId": "7283ba3e-531f-4063-9a7c-7c5816a79c2b"
      },
      "source": [
        "listaAprovadasLucroPeriodo"
      ],
      "execution_count": 90,
      "outputs": [
        {
          "output_type": "execute_result",
          "data": {
            "text/plain": [
              "['CIA. DE PARTICIPAÇÕES ALIANÇA DA BAHIA',\n",
              " 'METISA',\n",
              " 'CONSORCIO ALFA',\n",
              " 'PANATLANTICA',\n",
              " 'GRAZZIOTIN',\n",
              " 'TRANSMISSÃO PAULISTA',\n",
              " 'ALFA HOLDINGS']"
            ]
          },
          "metadata": {
            "tags": []
          },
          "execution_count": 90
        }
      ]
    },
    {
      "cell_type": "code",
      "metadata": {
        "id": "XtKZHaF2s1VL",
        "colab_type": "code",
        "colab": {
          "base_uri": "https://localhost:8080/",
          "height": 34
        },
        "outputId": "90fef6ee-dc4e-476c-e247-4e83f284e77c"
      },
      "source": [
        ""
      ],
      "execution_count": 64,
      "outputs": [
        {
          "output_type": "execute_result",
          "data": {
            "text/plain": [
              "'Demonstrativo de Resultado - ALFA HOLDINGS - Trimestres Isolados'"
            ]
          },
          "metadata": {
            "tags": []
          },
          "execution_count": 64
        }
      ]
    },
    {
      "cell_type": "code",
      "metadata": {
        "id": "AcQZESe8swrV",
        "colab_type": "code",
        "colab": {}
      },
      "source": [
        "\n",
        "\n",
        "  \n",
        "\n",
        "  print(df1.index)\n",
        "\n",
        "  df1.columns = df1.iloc[0].values\n",
        "\n",
        "  df1 = df1.drop(df1.index[0])\n",
        "\n",
        "  df5anos = df1[[\"30/09/2019\",\"30/06/2019\", \"31/03/2019\", \"31/12/2018\",  \"30/09/2018\", \"30/06/2018\", \"31/03/2018\",  \"31/12/2017\", \"30/09/2017\", \n",
        "\"30/06/2017\", \"31/03/2017\", \"31/12/2016\" , \"30/09/2016\", \"30/06/2016\", \"31/03/2016\",  \"31/12/2015\", \"30/09/2015\", \n",
        "\"30/06/2015\", \"31/03/2015\" ]] \n",
        "\n",
        "  lucros5anos = df5anos.loc[\"Lucro/Prejuízo do Período\"].values\n",
        "\n",
        "  if(empresaLucrativa(lucros5anos)):\n",
        "    print(\"Empresa lucrativa\" + df1[0][1]) "
      ],
      "execution_count": 0,
      "outputs": []
    },
    {
      "cell_type": "code",
      "metadata": {
        "id": "rGBaTaALKiGm",
        "colab_type": "code",
        "colab": {}
      },
      "source": [
        ""
      ],
      "execution_count": 0,
      "outputs": []
    },
    {
      "cell_type": "code",
      "metadata": {
        "id": "0GdQJWeFKfVq",
        "colab_type": "code",
        "colab": {},
        "outputId": "7ddc3ad9-c27b-43ef-a9ec-e44e0b52da25"
      },
      "source": [
        ""
      ],
      "execution_count": 0,
      "outputs": [
        {
          "output_type": "stream",
          "text": [
            "WARNING *** file size (69996) not 512 + multiple of sector size (512)\n",
            "WARNING *** OLE2 inconsistency: SSCS size is 0 but SSAT size is non-zero\n"
          ],
          "name": "stdout"
        }
      ]
    },
    {
      "cell_type": "code",
      "metadata": {
        "id": "llCgE7ryKfV0",
        "colab_type": "code",
        "colab": {}
      },
      "source": [
        ""
      ],
      "execution_count": 0,
      "outputs": []
    },
    {
      "cell_type": "code",
      "metadata": {
        "id": "O-aoAkOsKfV7",
        "colab_type": "code",
        "colab": {}
      },
      "source": [
        ""
      ],
      "execution_count": 0,
      "outputs": []
    },
    {
      "cell_type": "code",
      "metadata": {
        "id": "0s2v0TDbKfWB",
        "colab_type": "code",
        "colab": {}
      },
      "source": [
        ""
      ],
      "execution_count": 0,
      "outputs": []
    },
    {
      "cell_type": "code",
      "metadata": {
        "id": "87TldB9fKfWH",
        "colab_type": "code",
        "colab": {}
      },
      "source": [
        ""
      ],
      "execution_count": 0,
      "outputs": []
    },
    {
      "cell_type": "code",
      "metadata": {
        "id": "b7YYna_1KfWM",
        "colab_type": "code",
        "colab": {}
      },
      "source": [
        ""
      ],
      "execution_count": 0,
      "outputs": []
    },
    {
      "cell_type": "code",
      "metadata": {
        "id": "2BFzZDdMKfWQ",
        "colab_type": "code",
        "colab": {},
        "outputId": "1e7243df-8a3f-4019-f219-8768246302e0"
      },
      "source": [
        "lucros5anos"
      ],
      "execution_count": 0,
      "outputs": [
        {
          "output_type": "execute_result",
          "data": {
            "text/plain": [
              "array([418243.008, 389001.984, 306848.992, 335280, 381430.016, 336604.992,\n",
              "       285004, 300249.984, 312030.016, 272166.016, 257703.008, 323188.096,\n",
              "       257043.008, 254996.992, 282396, 383916.032, 265408.992, 260880.992,\n",
              "       245859.008], dtype=object)"
            ]
          },
          "metadata": {
            "tags": []
          },
          "execution_count": 34
        }
      ]
    },
    {
      "cell_type": "code",
      "metadata": {
        "id": "S0N-uCbOKfWW",
        "colab_type": "code",
        "colab": {}
      },
      "source": [
        "\n",
        "    "
      ],
      "execution_count": 0,
      "outputs": []
    },
    {
      "cell_type": "code",
      "metadata": {
        "id": "ID4no3SmKfWb",
        "colab_type": "code",
        "colab": {},
        "outputId": "fe984c19-ac5f-49ec-fbbb-7929c7cb0853"
      },
      "source": [
        ""
      ],
      "execution_count": 0,
      "outputs": [
        {
          "output_type": "execute_result",
          "data": {
            "text/plain": [
              "True"
            ]
          },
          "metadata": {
            "tags": []
          },
          "execution_count": 41
        }
      ]
    },
    {
      "cell_type": "code",
      "metadata": {
        "id": "bf9y94BPKfWg",
        "colab_type": "code",
        "colab": {}
      },
      "source": [
        "df2019= df1[[\"30/09/2019\",\"30/06/2019\", \"31/03/2019\"]]\n"
      ],
      "execution_count": 0,
      "outputs": []
    },
    {
      "cell_type": "code",
      "metadata": {
        "id": "w1YcxAVkKfWm",
        "colab_type": "code",
        "colab": {}
      },
      "source": [
        ""
      ],
      "execution_count": 0,
      "outputs": []
    }
  ]
}