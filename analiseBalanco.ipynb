{
  "nbformat": 4,
  "nbformat_minor": 0,
  "metadata": {
    "kernelspec": {
      "display_name": "Python 3",
      "language": "python",
      "name": "python3"
    },
    "language_info": {
      "codemirror_mode": {
        "name": "ipython",
        "version": 3
      },
      "file_extension": ".py",
      "mimetype": "text/x-python",
      "name": "python",
      "nbconvert_exporter": "python",
      "pygments_lexer": "ipython3",
      "version": "3.7.3"
    },
    "colab": {
      "name": "analiseBalanco.ipynb",
      "provenance": [],
      "toc_visible": true,
      "include_colab_link": true
    }
  },
  "cells": [
    {
      "cell_type": "markdown",
      "metadata": {
        "id": "view-in-github",
        "colab_type": "text"
      },
      "source": [
        "<a href=\"https://colab.research.google.com/github/lds1804/Docs/blob/master/analiseBalanco.ipynb\" target=\"_parent\"><img src=\"https://colab.research.google.com/assets/colab-badge.svg\" alt=\"Open In Colab\"/></a>"
      ]
    },
    {
      "cell_type": "code",
      "metadata": {
        "id": "aMJ2ABZBKfVa",
        "colab_type": "code",
        "colab": {}
      },
      "source": [
        "listaEmpresas = ['ELET3', 'SGPS3', 'PMAM3',  'CTSA3', 'CRPG6', 'CMIG4', 'TKNO4', 'FESA4',\n",
        " 'TRPL4', 'BRGE12', 'GPCP3', 'MYPK3',   'CPLE6', 'CGRA4', 'CSMG3', 'PTNT4', 'RPAD3', 'PEAB3', 'MTSA4', 'VLID3',\n",
        "   'WLMM3',  'PATI3', 'GOAU3', 'GGBR4', 'GPIV33', 'GBIO33', 'AGRO3']"
      ],
      "execution_count": 0,
      "outputs": []
    },
    {
      "cell_type": "code",
      "metadata": {
        "id": "BWV6N7BsK7cI",
        "colab_type": "code",
        "colab": {}
      },
      "source": [
        "listaEmpresasAtual= ['ELET3',\n",
        " 'CTNM4', 'SGPS3',\n",
        " 'LIGT3', 'PMAM3',\n",
        " 'CTSA4', 'TKNO4',\n",
        " 'CRPG3', 'CMIG3', \n",
        " 'ROMI3', 'GPCP3',\n",
        " 'EALT4', 'TRPL3',\n",
        " 'MYPK3', 'ENBR3',\n",
        " 'CAML3', 'FESA3',\n",
        " 'PETR4',  'CPLE6', \n",
        " 'BRGE8', 'CGRA4', \n",
        " 'COCE3', 'CSMG3', \n",
        " 'PTNT4',\n",
        " 'CEPE6', \n",
        " 'PEAB3', 'MTSA4',\n",
        " 'VLID3', \n",
        " 'WLMM3', \n",
        " 'VIVT3', \n",
        " 'PATI3', 'VALE3',\n",
        " 'GOAU3',   \n",
        " 'GGBR3', 'RPAD5','GPIV33',\n",
        " 'GBIO33', 'AGRO3']"
      ],
      "execution_count": 0,
      "outputs": []
    },
    {
      "cell_type": "code",
      "metadata": {
        "id": "_75Onpw88pR7",
        "colab_type": "code",
        "colab": {}
      },
      "source": [
        "listaEmpresaSemNumero = []\n",
        "\n",
        "for empresa in listaEmpresas:\n",
        "\n",
        "  result = ''.join([i for i in empresa if not i.isdigit()])\n",
        "  listaEmpresaSemNumero.append(result)"
      ],
      "execution_count": 0,
      "outputs": []
    },
    {
      "cell_type": "code",
      "metadata": {
        "id": "m50T1UYl_G51",
        "colab_type": "code",
        "colab": {}
      },
      "source": [
        "listaEmpresaAtualSemNumero = []\n",
        "\n",
        "for empresa in listaEmpresasAtual:\n",
        "\n",
        "  result = ''.join([i for i in empresa if not i.isdigit()])\n",
        "  listaEmpresaAtualSemNumero.append(result)"
      ],
      "execution_count": 0,
      "outputs": []
    },
    {
      "cell_type": "code",
      "metadata": {
        "id": "hdfK0t7U_MBT",
        "colab_type": "code",
        "colab": {}
      },
      "source": [
        "listaEmpresaAtualSemNumero = set(listaEmpresaAtualSemNumero)\n",
        "listaEmpresaSemNumero = set(listaEmpresaSemNumero)"
      ],
      "execution_count": 0,
      "outputs": []
    },
    {
      "cell_type": "code",
      "metadata": {
        "id": "Qcp6UNQW_cwc",
        "colab_type": "code",
        "colab": {
          "base_uri": "https://localhost:8080/",
          "height": 208
        },
        "outputId": "95c18c91-3149-49c1-94dc-ed6164bce4c5"
      },
      "source": [
        "listaEmpresaAtualSemNumero.difference(listaEmpresaSemNumero)"
      ],
      "execution_count": 111,
      "outputs": [
        {
          "output_type": "execute_result",
          "data": {
            "text/plain": [
              "{'CAML',\n",
              " 'CEPE',\n",
              " 'COCE',\n",
              " 'CTNM',\n",
              " 'EALT',\n",
              " 'ENBR',\n",
              " 'LIGT',\n",
              " 'PETR',\n",
              " 'ROMI',\n",
              " 'VALE',\n",
              " 'VIVT'}"
            ]
          },
          "metadata": {
            "tags": []
          },
          "execution_count": 111
        }
      ]
    },
    {
      "cell_type": "code",
      "metadata": {
        "id": "1fRF3pGv_lBE",
        "colab_type": "code",
        "colab": {
          "base_uri": "https://localhost:8080/",
          "height": 34
        },
        "outputId": "1c7be8fe-6e0b-484a-d012-62bb34bc2470"
      },
      "source": [
        "len(listaEmpresaAtualSemNumero)"
      ],
      "execution_count": 126,
      "outputs": [
        {
          "output_type": "execute_result",
          "data": {
            "text/plain": [
              "38"
            ]
          },
          "metadata": {
            "tags": []
          },
          "execution_count": 126
        }
      ]
    },
    {
      "cell_type": "code",
      "metadata": {
        "id": "VBGYrK1wKh71",
        "colab_type": "code",
        "colab": {}
      },
      "source": [
        "import os\n",
        "entries = os.listdir('./balancos')"
      ],
      "execution_count": 0,
      "outputs": []
    },
    {
      "cell_type": "code",
      "metadata": {
        "id": "_I04aPc4XiRU",
        "colab_type": "code",
        "colab": {}
      },
      "source": [
        "entries = entries[1:-1]"
      ],
      "execution_count": 0,
      "outputs": []
    },
    {
      "cell_type": "code",
      "metadata": {
        "id": "uSgpg8_BrR45",
        "colab_type": "code",
        "colab": {}
      },
      "source": [
        "def empresaLucrativa(arrayLucros):\n",
        "\n",
        "    lucrativa = True\n",
        "    for lucro in arrayLucros: \n",
        "        if lucro < 0: \n",
        "            lucrativa = False\n",
        "    return lucrativa"
      ],
      "execution_count": 0,
      "outputs": []
    },
    {
      "cell_type": "code",
      "metadata": {
        "id": "xi6Q8NC-iKRc",
        "colab_type": "code",
        "colab": {}
      },
      "source": [
        "import io\n",
        "from zipfile import ZipFile\n",
        "import pandas as pd\n",
        "\n",
        "\n",
        "def read_zip(zip_fn, extract_fn=None):\n",
        "    zf = ZipFile(zip_fn)\n",
        "    if extract_fn:\n",
        "        return zf.read(extract_fn)\n",
        "    else:\n",
        "        return {name:zf.read(name) for name in zf.namelist()}"
      ],
      "execution_count": 0,
      "outputs": []
    },
    {
      "cell_type": "code",
      "metadata": {
        "id": "Z5v0Q6-EekJC",
        "colab_type": "code",
        "colab": {
          "base_uri": "https://localhost:8080/",
          "height": 1000
        },
        "outputId": "ace87187-a98f-41cd-d7a6-8df654715bfd"
      },
      "source": [
        "import zipfile\n",
        "import pandas as pd\n",
        "\n",
        "listaAprovadasLucroPeriodo= []\n",
        "listaAumentoLucro= []\n",
        "\n",
        "for entry in entries:\n",
        "  print(entry)\n",
        "  archive = zipfile.ZipFile('balancos/'+ entry , 'r')\n",
        "  archive.extract(\"balanco.xls\")\n",
        "  \n",
        "  xls = pd.ExcelFile('balanco.xls' )\n",
        "\n",
        "  df1 = pd.read_excel(xls, 'Dem. Result.')\n",
        "\n",
        "  name = df1.columns[1]\n",
        "  df1 = df1.set_index(\"XLSWrite 1.34 Copyright(c) 1999,2000 Axolot Data\")\n",
        "\n",
        "  df1.columns = df1.iloc[0].values\n",
        "\n",
        "  df1 = df1.drop(df1.index[0])\n",
        "  #print(\"if \" + entry)\n",
        "\n",
        "  if(entry in [\"bal_BIOTOSCANA.zip\" , \"bal_CAMIL.zip\"] ):\n",
        "    continue\n",
        "\n",
        "  if(entry in \"bal_CIA.zip\" ):\n",
        "    print(\"if entry equal \" + entry) \n",
        "    periodo = [\"30/06/2019\", \"31/03/2019\", \"31/12/2018\",  \"30/09/2018\", \"30/06/2018\", \"31/03/2018\",  \"31/12/2017\", \"30/09/2017\", \"30/06/2017\", \"31/03/2017\", \"31/12/2016\" , \"30/09/2016\", \"30/06/2016\", \"31/03/2016\",  \"31/12/2015\", \"30/09/2015\", \"30/06/2015\", \"31/03/2015\" ]\n",
        "  elif(entry == \"bal_BRASILAGRO.zip\"): \n",
        "    periodo = [\"30/09/2019\",\"30/06/2019\", \"31/03/2019\", \"31/12/2018\",  \"30/09/2018\", \"30/06/2018\", \"31/03/2018\",  \"31/12/2017\", \"30/09/2017\", \n",
        "\"30/06/2017\", \"31/03/2017\", \"31/12/2016\" , \"30/09/2016\", \"30/06/2016\", \"31/03/2016\", \"30/09/2015\", \n",
        "\"30/06/2015\", \"31/03/2015\" ]\n",
        "  elif(entry == \"bal_CRISTAL.zip\"): \n",
        "    periodo = [\"30/09/2019\",\"30/06/2019\", \"31/03/2019\", \"31/12/2018\",  \"30/09/2018\", \"30/06/2018\", \"31/03/2018\",  \"31/12/2017\", \"30/09/2017\", \n",
        "\"30/06/2017\", \"31/03/2017\", \"31/12/2016\" , \"30/09/2016\", \"31/03/2016\",\"31/12/2015\",  \"30/09/2015\", \n",
        "\"30/06/2015\", \"31/03/2015\" ]\n",
        "  else: \n",
        "    periodo = [\"30/09/2019\",\"30/06/2019\", \"31/03/2019\", \"31/12/2018\",  \"30/09/2018\", \"30/06/2018\", \"31/03/2018\",  \"31/12/2017\", \"30/09/2017\", \n",
        "\"30/06/2017\", \"31/03/2017\", \"31/12/2016\" , \"30/09/2016\", \"30/06/2016\", \"31/03/2016\",  \"31/12/2015\", \"30/09/2015\", \n",
        "\"30/06/2015\", \"31/03/2015\" ]\n",
        "\n",
        "  df5anos = df1[periodo] \n",
        "\n",
        "\n",
        "  if(entry ==\"bal_PETTENATI.zip\"):\n",
        "    periodoLucroAnterior = ['31/12/2009', '30/09/2009',\n",
        "       '30/06/2009', '31/03/2009']\n",
        "  else: \n",
        "    periodoLucroAnterior = ['31/12/2010',\n",
        "       '30/09/2010', '30/06/2010', '31/03/2010']\n",
        "\n",
        "\n",
        "  df2018= df1[[\"31/12/2018\",  \"30/09/2018\", \"30/06/2018\", \"31/03/2018\"]]\n",
        "  df2010 = df1[periodoLucroAnterior]\n",
        "\n",
        "  lucro2018Array = df2018.loc[\"Lucro/Prejuízo do Período\"].values\n",
        "  lucro2010Array = df2010.loc[\"Lucro/Prejuízo do Período\"].values\n",
        "  lucro2018 = sum (lucro2018Array)\n",
        "  lucro2010 = sum (lucro2010Array)\n",
        "\n",
        "  lucros5anos = df5anos.loc[\"Lucro/Prejuízo do Período\"].values\n",
        "\n",
        "  if(empresaLucrativa(lucros5anos)):\n",
        "    print(\"================Empresa lucrativa: \" + name) \n",
        "    name = name.replace(\"Demonstrativo de Resultado - \", \"\")\n",
        "    name = name.replace(\" - Trimestres Isolados\",\"\")\n",
        "    listaAprovadasLucroPeriodo.append(name)\n",
        "\n",
        "  if(lucro2018 > 1.2*lucro2010):\n",
        "    print(\"================Empresa aumento de lucro: \" + name) \n",
        "    name = name.replace(\"Demonstrativo de Resultado - \", \"\")\n",
        "    name = name.replace(\" - Trimestres Isolados\",\"\")\n",
        "    listaAumentoLucro.append(name)\n",
        "\n",
        "  \n",
        "  \n",
        "  \n",
        "\n",
        "  \n"
      ],
      "execution_count": 144,
      "outputs": [
        {
          "output_type": "stream",
          "text": [
            "bal_CELPE.zip\n",
            "WARNING *** file size (69994) not 512 + multiple of sector size (512)\n",
            "WARNING *** OLE2 inconsistency: SSCS size is 0 but SSAT size is non-zero\n",
            "bal_CEMIG.zip\n",
            "WARNING *** file size (69994) not 512 + multiple of sector size (512)\n",
            "WARNING *** OLE2 inconsistency: SSCS size is 0 but SSAT size is non-zero\n",
            "bal_FERBASA.zip\n",
            "WARNING *** file size (69998) not 512 + multiple of sector size (512)\n",
            "WARNING *** OLE2 inconsistency: SSCS size is 0 but SSAT size is non-zero\n",
            "================Empresa aumento de lucro: Demonstrativo de Resultado - FERBASA - Trimestres Isolados\n",
            "bal_CIA.zip\n",
            "WARNING *** file size (70060) not 512 + multiple of sector size (512)\n",
            "WARNING *** OLE2 inconsistency: SSCS size is 0 but SSAT size is non-zero\n",
            "if entry equal bal_CIA.zip\n",
            "================Empresa lucrativa: Demonstrativo de Resultado - CIA. DE PARTICIPAÇÕES ALIANÇA DA BAHIA - Trimestres Isolados\n",
            "================Empresa aumento de lucro: CIA. DE PARTICIPAÇÕES ALIANÇA DA BAHIA\n",
            "bal_Springs.zip\n",
            "WARNING *** file size (69998) not 512 + multiple of sector size (512)\n",
            "WARNING *** OLE2 inconsistency: SSCS size is 0 but SSAT size is non-zero\n",
            "================Empresa aumento de lucro: Demonstrativo de Resultado - Springs - Trimestres Isolados\n",
            "bal_METISA.zip\n",
            "WARNING *** file size (69996) not 512 + multiple of sector size (512)\n",
            "WARNING *** OLE2 inconsistency: SSCS size is 0 but SSAT size is non-zero\n",
            "================Empresa lucrativa: Demonstrativo de Resultado - METISA - Trimestres Isolados\n",
            "bal_CONSORCIO.zip\n",
            "WARNING *** file size (70012) not 512 + multiple of sector size (512)\n",
            "WARNING *** OLE2 inconsistency: SSCS size is 0 but SSAT size is non-zero\n",
            "================Empresa lucrativa: Demonstrativo de Resultado - CONSORCIO ALFA - Trimestres Isolados\n",
            "bal_PETROBRAS(1).zip\n",
            "WARNING *** file size (70002) not 512 + multiple of sector size (512)\n",
            "WARNING *** OLE2 inconsistency: SSCS size is 0 but SSAT size is non-zero\n",
            "bal_VALID.zip\n",
            "WARNING *** file size (69994) not 512 + multiple of sector size (512)\n",
            "WARNING *** OLE2 inconsistency: SSCS size is 0 but SSAT size is non-zero\n",
            "bal_PANATLANTICA.zip\n",
            "WARNING *** file size (70008) not 512 + multiple of sector size (512)\n",
            "WARNING *** OLE2 inconsistency: SSCS size is 0 but SSAT size is non-zero\n",
            "================Empresa lucrativa: Demonstrativo de Resultado - PANATLANTICA - Trimestres Isolados\n",
            "================Empresa aumento de lucro: PANATLANTICA\n",
            "bal_PETTENATI.zip\n",
            "WARNING *** file size (70002) not 512 + multiple of sector size (512)\n",
            "WARNING *** OLE2 inconsistency: SSCS size is 0 but SSAT size is non-zero\n",
            "================Empresa aumento de lucro: Demonstrativo de Resultado - PETTENATI - Trimestres Isolados\n",
            "bal_TELEF.zip\n",
            "WARNING *** file size (70008) not 512 + multiple of sector size (512)\n",
            "WARNING *** OLE2 inconsistency: SSCS size is 0 but SSAT size is non-zero\n",
            "================Empresa lucrativa: Demonstrativo de Resultado - TELEF BRASIL - Trimestres Isolados\n",
            "================Empresa aumento de lucro: TELEF BRASIL\n",
            "bal_COTEMINAS.zip\n",
            "WARNING *** file size (70002) not 512 + multiple of sector size (512)\n",
            "WARNING *** OLE2 inconsistency: SSCS size is 0 but SSAT size is non-zero\n",
            "================Empresa aumento de lucro: Demonstrativo de Resultado - COTEMINAS - Trimestres Isolados\n",
            "bal_IOCHPE-MAXION.zip\n",
            "WARNING *** file size (70010) not 512 + multiple of sector size (512)\n",
            "WARNING *** OLE2 inconsistency: SSCS size is 0 but SSAT size is non-zero\n",
            "================Empresa aumento de lucro: Demonstrativo de Resultado - IOCHPE-MAXION - Trimestres Isolados\n",
            "bal_ROMI.zip\n",
            "WARNING *** file size (69992) not 512 + multiple of sector size (512)\n",
            "WARNING *** OLE2 inconsistency: SSCS size is 0 but SSAT size is non-zero\n",
            "================Empresa aumento de lucro: Demonstrativo de Resultado - ROMI - Trimestres Isolados\n",
            "bal_PARANAPANEMA.zip\n",
            "WARNING *** file size (70018) not 512 + multiple of sector size (512)\n",
            "WARNING *** OLE2 inconsistency: SSCS size is 0 but SSAT size is non-zero\n",
            "bal_ELETROBR.zip\n",
            "WARNING *** file size (70004) not 512 + multiple of sector size (512)\n",
            "WARNING *** OLE2 inconsistency: SSCS size is 0 but SSAT size is non-zero\n",
            "================Empresa aumento de lucro: Demonstrativo de Resultado - ELETROBRÁS - Trimestres Isolados\n",
            "bal_GRAZZIOTIN.zip\n",
            "WARNING *** file size (70004) not 512 + multiple of sector size (512)\n",
            "WARNING *** OLE2 inconsistency: SSCS size is 0 but SSAT size is non-zero\n",
            "================Empresa lucrativa: Demonstrativo de Resultado - GRAZZIOTIN - Trimestres Isolados\n",
            "================Empresa aumento de lucro: GRAZZIOTIN\n",
            "bal_BIOTOSCANA.zip\n",
            "WARNING *** file size (25123) not 512 + multiple of sector size (512)\n",
            "WARNING *** OLE2 inconsistency: SSCS size is 0 but SSAT size is non-zero\n",
            "bal_GERDAU.zip\n",
            "WARNING *** file size (70006) not 512 + multiple of sector size (512)\n",
            "WARNING *** OLE2 inconsistency: SSCS size is 0 but SSAT size is non-zero\n",
            "bal_TEKNO.zip\n",
            "WARNING *** file size (69994) not 512 + multiple of sector size (512)\n",
            "WARNING *** OLE2 inconsistency: SSCS size is 0 but SSAT size is non-zero\n",
            "bal_BRASILAGRO.zip\n",
            "WARNING *** file size (70004) not 512 + multiple of sector size (512)\n",
            "WARNING *** OLE2 inconsistency: SSCS size is 0 but SSAT size is non-zero\n",
            "================Empresa aumento de lucro: Demonstrativo de Resultado - BRASILAGRO - Trimestres Isolados\n",
            "bal_LIGHT.zip\n",
            "WARNING *** file size (70000) not 512 + multiple of sector size (512)\n",
            "WARNING *** OLE2 inconsistency: SSCS size is 0 but SSAT size is non-zero\n",
            "bal_COPEL.zip\n",
            "WARNING *** file size (69994) not 512 + multiple of sector size (512)\n",
            "WARNING *** OLE2 inconsistency: SSCS size is 0 but SSAT size is non-zero\n",
            "================Empresa aumento de lucro: Demonstrativo de Resultado - COPEL - Trimestres Isolados\n",
            "bal_SANTANENSE.zip\n",
            "WARNING *** file size (70004) not 512 + multiple of sector size (512)\n",
            "WARNING *** OLE2 inconsistency: SSCS size is 0 but SSAT size is non-zero\n",
            "================Empresa aumento de lucro: Demonstrativo de Resultado - SANTANENSE - Trimestres Isolados\n",
            "bal_WLM.zip\n",
            "WARNING *** file size (69990) not 512 + multiple of sector size (512)\n",
            "WARNING *** OLE2 inconsistency: SSCS size is 0 but SSAT size is non-zero\n",
            "bal_METAL.zip\n",
            "WARNING *** file size (70020) not 512 + multiple of sector size (512)\n",
            "WARNING *** OLE2 inconsistency: SSCS size is 0 but SSAT size is non-zero\n",
            "bal_GPC.zip\n",
            "WARNING *** file size (70024) not 512 + multiple of sector size (512)\n",
            "WARNING *** OLE2 inconsistency: SSCS size is 0 but SSAT size is non-zero\n",
            "================Empresa aumento de lucro: Demonstrativo de Resultado - GPC PARTICIPACOES SA - Trimestres Isolados\n",
            "bal_EDP.zip\n",
            "WARNING *** file size (70036) not 512 + multiple of sector size (512)\n",
            "WARNING *** OLE2 inconsistency: SSCS size is 0 but SSAT size is non-zero\n",
            "================Empresa lucrativa: Demonstrativo de Resultado - EDP ENERGIAS DO BRASIL S/A - Trimestres Isolados\n",
            "================Empresa aumento de lucro: EDP ENERGIAS DO BRASIL S/A\n",
            "bal_COPASA.zip\n",
            "WARNING *** file size (70002) not 512 + multiple of sector size (512)\n",
            "WARNING *** OLE2 inconsistency: SSCS size is 0 but SSAT size is non-zero\n",
            "bal_TRANSMISS.zip\n",
            "WARNING *** file size (70024) not 512 + multiple of sector size (512)\n",
            "WARNING *** OLE2 inconsistency: SSCS size is 0 but SSAT size is non-zero\n",
            "================Empresa lucrativa: Demonstrativo de Resultado - TRANSMISSÃO PAULISTA - Trimestres Isolados\n",
            "================Empresa aumento de lucro: TRANSMISSÃO PAULISTA\n",
            "bal_ALFA.zip\n",
            "WARNING *** file size (70010) not 512 + multiple of sector size (512)\n",
            "WARNING *** OLE2 inconsistency: SSCS size is 0 but SSAT size is non-zero\n",
            "================Empresa lucrativa: Demonstrativo de Resultado - ALFA HOLDINGS - Trimestres Isolados\n",
            "bal_GP.zip\n",
            "WARNING *** file size (70022) not 512 + multiple of sector size (512)\n",
            "WARNING *** OLE2 inconsistency: SSCS size is 0 but SSAT size is non-zero\n",
            "bal_VALE.zip\n",
            "WARNING *** file size (69992) not 512 + multiple of sector size (512)\n",
            "WARNING *** OLE2 inconsistency: SSCS size is 0 but SSAT size is non-zero\n"
          ],
          "name": "stdout"
        }
      ]
    },
    {
      "cell_type": "code",
      "metadata": {
        "id": "n0iWTokv1a67",
        "colab_type": "code",
        "colab": {
          "base_uri": "https://localhost:8080/",
          "height": 191
        },
        "outputId": "26999a96-ee38-439b-dc75-f51262237598"
      },
      "source": [
        "df1.columns"
      ],
      "execution_count": 93,
      "outputs": [
        {
          "output_type": "execute_result",
          "data": {
            "text/plain": [
              "Index(['30/09/2019', '30/06/2019', '31/03/2019', '31/12/2018', '30/09/2018',\n",
              "       '30/06/2018', '31/03/2018', '31/12/2017', '30/09/2017', '30/06/2017',\n",
              "       '31/03/2017', '31/12/2016', '30/09/2016', '31/03/2016', '31/12/2015',\n",
              "       '30/09/2015', '30/06/2015', '31/03/2015', '31/12/2014', '30/09/2014',\n",
              "       '30/06/2014', '31/03/2014', '31/12/2013', '30/09/2013', '30/06/2013',\n",
              "       '31/03/2013', '31/12/2012', '30/09/2012', '30/06/2012', '31/03/2012',\n",
              "       '31/12/2011', '30/09/2011', '30/06/2011', '31/03/2011', '31/12/2010',\n",
              "       '30/09/2010', '30/06/2010', '31/03/2010', '31/12/2009', '30/09/2009',\n",
              "       '30/06/2009', '31/03/2009'],\n",
              "      dtype='object')"
            ]
          },
          "metadata": {
            "tags": []
          },
          "execution_count": 93
        }
      ]
    },
    {
      "cell_type": "code",
      "metadata": {
        "id": "9DFQtXibkbGE",
        "colab_type": "code",
        "colab": {
          "base_uri": "https://localhost:8080/",
          "height": 312
        },
        "outputId": "a07e4029-d4f5-41db-cc51-325e3006ffe3"
      },
      "source": [
        "listaAumentoLucro\n",
        "\n"
      ],
      "execution_count": 145,
      "outputs": [
        {
          "output_type": "execute_result",
          "data": {
            "text/plain": [
              "['FERBASA',\n",
              " 'CIA. DE PARTICIPAÇÕES ALIANÇA DA BAHIA',\n",
              " 'Springs',\n",
              " 'PANATLANTICA',\n",
              " 'PETTENATI',\n",
              " 'TELEF BRASIL',\n",
              " 'COTEMINAS',\n",
              " 'IOCHPE-MAXION',\n",
              " 'ROMI',\n",
              " 'ELETROBRÁS',\n",
              " 'GRAZZIOTIN',\n",
              " 'BRASILAGRO',\n",
              " 'COPEL',\n",
              " 'SANTANENSE',\n",
              " 'GPC PARTICIPACOES SA',\n",
              " 'EDP ENERGIAS DO BRASIL S/A',\n",
              " 'TRANSMISSÃO PAULISTA']"
            ]
          },
          "metadata": {
            "tags": []
          },
          "execution_count": 145
        }
      ]
    },
    {
      "cell_type": "code",
      "metadata": {
        "id": "moSGVO660BM9",
        "colab_type": "code",
        "colab": {
          "base_uri": "https://localhost:8080/",
          "height": 173
        },
        "outputId": "5e0b45fb-9654-40c1-c421-df60adc1c31a"
      },
      "source": [
        "listaAprovadasLucroPeriodo"
      ],
      "execution_count": 146,
      "outputs": [
        {
          "output_type": "execute_result",
          "data": {
            "text/plain": [
              "['CIA. DE PARTICIPAÇÕES ALIANÇA DA BAHIA',\n",
              " 'METISA',\n",
              " 'CONSORCIO ALFA',\n",
              " 'PANATLANTICA',\n",
              " 'TELEF BRASIL',\n",
              " 'GRAZZIOTIN',\n",
              " 'EDP ENERGIAS DO BRASIL S/A',\n",
              " 'TRANSMISSÃO PAULISTA',\n",
              " 'ALFA HOLDINGS']"
            ]
          },
          "metadata": {
            "tags": []
          },
          "execution_count": 146
        }
      ]
    },
    {
      "cell_type": "code",
      "metadata": {
        "id": "XtKZHaF2s1VL",
        "colab_type": "code",
        "colab": {}
      },
      "source": [
        "interseccaoLista = list(set(listaAumentoLucro) & set(listaAprovadasLucroPeriodo))"
      ],
      "execution_count": 0,
      "outputs": []
    },
    {
      "cell_type": "code",
      "metadata": {
        "id": "AcQZESe8swrV",
        "colab_type": "code",
        "colab": {
          "base_uri": "https://localhost:8080/",
          "height": 121
        },
        "outputId": "cc8ea1fc-2bfe-4ff0-c6e2-1bdc5bbf5cb9"
      },
      "source": [
        "interseccaoLista"
      ],
      "execution_count": 149,
      "outputs": [
        {
          "output_type": "execute_result",
          "data": {
            "text/plain": [
              "['GRAZZIOTIN',\n",
              " 'TRANSMISSÃO PAULISTA',\n",
              " 'PANATLANTICA',\n",
              " 'TELEF BRASIL',\n",
              " 'CIA. DE PARTICIPAÇÕES ALIANÇA DA BAHIA',\n",
              " 'EDP ENERGIAS DO BRASIL S/A']"
            ]
          },
          "metadata": {
            "tags": []
          },
          "execution_count": 149
        }
      ]
    },
    {
      "cell_type": "code",
      "metadata": {
        "id": "rGBaTaALKiGm",
        "colab_type": "code",
        "colab": {}
      },
      "source": [
        ""
      ],
      "execution_count": 0,
      "outputs": []
    },
    {
      "cell_type": "code",
      "metadata": {
        "id": "0GdQJWeFKfVq",
        "colab_type": "code",
        "colab": {},
        "outputId": "7ddc3ad9-c27b-43ef-a9ec-e44e0b52da25"
      },
      "source": [
        ""
      ],
      "execution_count": 0,
      "outputs": [
        {
          "output_type": "stream",
          "text": [
            "WARNING *** file size (69996) not 512 + multiple of sector size (512)\n",
            "WARNING *** OLE2 inconsistency: SSCS size is 0 but SSAT size is non-zero\n"
          ],
          "name": "stdout"
        }
      ]
    },
    {
      "cell_type": "code",
      "metadata": {
        "id": "llCgE7ryKfV0",
        "colab_type": "code",
        "colab": {}
      },
      "source": [
        ""
      ],
      "execution_count": 0,
      "outputs": []
    },
    {
      "cell_type": "code",
      "metadata": {
        "id": "O-aoAkOsKfV7",
        "colab_type": "code",
        "colab": {}
      },
      "source": [
        ""
      ],
      "execution_count": 0,
      "outputs": []
    },
    {
      "cell_type": "code",
      "metadata": {
        "id": "0s2v0TDbKfWB",
        "colab_type": "code",
        "colab": {}
      },
      "source": [
        ""
      ],
      "execution_count": 0,
      "outputs": []
    },
    {
      "cell_type": "code",
      "metadata": {
        "id": "87TldB9fKfWH",
        "colab_type": "code",
        "colab": {}
      },
      "source": [
        ""
      ],
      "execution_count": 0,
      "outputs": []
    },
    {
      "cell_type": "code",
      "metadata": {
        "id": "b7YYna_1KfWM",
        "colab_type": "code",
        "colab": {}
      },
      "source": [
        ""
      ],
      "execution_count": 0,
      "outputs": []
    },
    {
      "cell_type": "code",
      "metadata": {
        "id": "2BFzZDdMKfWQ",
        "colab_type": "code",
        "colab": {},
        "outputId": "1e7243df-8a3f-4019-f219-8768246302e0"
      },
      "source": [
        ""
      ],
      "execution_count": 0,
      "outputs": [
        {
          "output_type": "execute_result",
          "data": {
            "text/plain": [
              "array([418243.008, 389001.984, 306848.992, 335280, 381430.016, 336604.992,\n",
              "       285004, 300249.984, 312030.016, 272166.016, 257703.008, 323188.096,\n",
              "       257043.008, 254996.992, 282396, 383916.032, 265408.992, 260880.992,\n",
              "       245859.008], dtype=object)"
            ]
          },
          "metadata": {
            "tags": []
          },
          "execution_count": 34
        }
      ]
    },
    {
      "cell_type": "code",
      "metadata": {
        "id": "S0N-uCbOKfWW",
        "colab_type": "code",
        "colab": {}
      },
      "source": [
        "\n",
        "    "
      ],
      "execution_count": 0,
      "outputs": []
    },
    {
      "cell_type": "code",
      "metadata": {
        "id": "ID4no3SmKfWb",
        "colab_type": "code",
        "colab": {},
        "outputId": "fe984c19-ac5f-49ec-fbbb-7929c7cb0853"
      },
      "source": [
        ""
      ],
      "execution_count": 0,
      "outputs": [
        {
          "output_type": "execute_result",
          "data": {
            "text/plain": [
              "True"
            ]
          },
          "metadata": {
            "tags": []
          },
          "execution_count": 41
        }
      ]
    },
    {
      "cell_type": "code",
      "metadata": {
        "id": "bf9y94BPKfWg",
        "colab_type": "code",
        "colab": {}
      },
      "source": [
        "df2019= df1[[\"30/09/2019\",\"30/06/2019\", \"31/03/2019\"]]\n"
      ],
      "execution_count": 0,
      "outputs": []
    },
    {
      "cell_type": "code",
      "metadata": {
        "id": "w1YcxAVkKfWm",
        "colab_type": "code",
        "colab": {}
      },
      "source": [
        ""
      ],
      "execution_count": 0,
      "outputs": []
    }
  ]
}